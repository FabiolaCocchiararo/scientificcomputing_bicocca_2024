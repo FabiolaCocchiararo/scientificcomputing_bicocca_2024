{
 "cells": [
  {
   "cell_type": "code",
   "execution_count": 1,
   "id": "4b3ee4f7-0630-407a-9eab-7c76494ae2a1",
   "metadata": {},
   "outputs": [
    {
     "name": "stdout",
     "output_type": "stream",
     "text": [
      "IPython console for SymPy 1.13.1 (Python 3.11.7-64-bit) (ground types: python)\n",
      "\n",
      "These commands were executed:\n",
      ">>> from sympy import *\n",
      ">>> x, y, z, t = symbols('x y z t')\n",
      ">>> k, m, n = symbols('k m n', integer=True)\n",
      ">>> f, g, h = symbols('f g h', cls=Function)\n",
      ">>> init_printing()\n",
      "\n",
      "Documentation can be found at https://docs.sympy.org/1.13.1/\n",
      "\n"
     ]
    }
   ],
   "source": [
    "import matplotlib.pyplot as plt\n",
    "import numpy as np\n",
    "import sympy as sym\n",
    "\n",
    "from sympy.physics.units import *\n",
    "from sympy import init_session\n",
    "init_session()\n",
    "\n",
    "%matplotlib inline"
   ]
  },
  {
   "cell_type": "markdown",
   "id": "bb04576e-09f7-426b-b624-d5dca26bf375",
   "metadata": {},
   "source": [
    "## Q1: Play with expressions\n",
    "\n",
    "Create the expression:\n",
    "\n",
    "$$f = x e^{-x} + x (1-x)$$\n",
    "\n",
    "Then evaluate it for \n",
    "\n",
    "$$x = 0, 0.1, 0.2, 0.4, 0.8$$"
   ]
  },
  {
   "cell_type": "code",
   "execution_count": 2,
   "id": "569e4248-04e9-461d-81cb-6b8a88942e14",
   "metadata": {},
   "outputs": [
    {
     "data": {
      "image/png": "[encoded data removed]",
      "text/latex": [
       "$\\displaystyle x \\left(1 - x\\right) + x e^{- x}$"
      ],
      "text/plain": [
       "               -x\n",
       "x⋅(1 - x) + x⋅ℯ  "
      ]
     },
     "execution_count": 2,
     "metadata": {},
     "output_type": "execute_result"
    }
   ],
   "source": [
    "x = symbols(\"x\")\n",
    "f = x * exp(-x) + x*(1-x)\n",
    "f"
   ]
  },
  {
   "cell_type": "code",
   "execution_count": 3,
   "id": "6f102905-82e9-494d-8534-60c91b85c1c1",
   "metadata": {},
   "outputs": [
    {
     "name": "stdout",
     "output_type": "stream",
     "text": [
      "f(x = 0) = 0\n",
      "f(x = 0.1) = 0.180483741803596\n",
      "f(x = 0.2) = 0.323746150615596\n",
      "f(x = 0.4) = 0.508128018414256\n",
      "f(x = 0.8) = 0.519463171293777\n"
     ]
    }
   ],
   "source": [
    "x_values = [0, 0.1, 0.2, 0.4, 0.8]\n",
    "\n",
    "for i in x_values:\n",
    "    print(f\"f(x = {i}) = {f.subs(x, i)}\")"
   ]
  },
  {
   "cell_type": "markdown",
   "id": "0628934d-3bc0-48bf-b675-0263af07246e",
   "metadata": {},
   "source": [
    "## Q2: Polynomials\n",
    "\n",
    "Factor this polynomial\n",
    "\n",
    "$$x^{4} - 6 x^{3} + x^{2} + 24 x + 16$$\n",
    "\n",
    "Then find its zeros."
   ]
  },
  {
   "cell_type": "code",
   "execution_count": 4,
   "id": "54494435-31cd-43e8-8caf-4c85ccaf8276",
   "metadata": {},
   "outputs": [
    {
     "data": {
      "image/png": "[encoded data removed]",
      "text/latex": [
       "$\\displaystyle x^{4} - 6 x^{3} + x^{2} + 24 x + 16$"
      ],
      "text/plain": [
       " 4      3    2            \n",
       "x  - 6⋅x  + x  + 24⋅x + 16"
      ]
     },
     "execution_count": 4,
     "metadata": {},
     "output_type": "execute_result"
    }
   ],
   "source": [
    "x = symbols(\"x\")\n",
    "f = x**4 - 6*x**3 + x**2 + 24*x + 16\n",
    "f"
   ]
  },
  {
   "cell_type": "code",
   "execution_count": 5,
   "id": "910eee74-b714-4743-acf4-63859cb2e7aa",
   "metadata": {},
   "outputs": [
    {
     "data": {
      "image/png": "[encoded data removed]",
      "text/latex": [
       "$\\displaystyle \\left(x - 4\\right)^{2} \\left(x + 1\\right)^{2}$"
      ],
      "text/plain": [
       "       2        2\n",
       "(x - 4) ⋅(x + 1) "
      ]
     },
     "execution_count": 5,
     "metadata": {},
     "output_type": "execute_result"
    }
   ],
   "source": [
    "factor(f)"
   ]
  },
  {
   "cell_type": "code",
   "execution_count": 6,
   "id": "8ddc6b10-c205-4e3c-a05e-759b79132d18",
   "metadata": {},
   "outputs": [
    {
     "name": "stdout",
     "output_type": "stream",
     "text": [
      "Root: 4, Degeneracy: 2\n",
      "Root: -1, Degeneracy: 2\n"
     ]
    }
   ],
   "source": [
    "f_roots = roots(f)\n",
    "\n",
    "for keys, values in f_roots.items():\n",
    "    print(f\"Root: {keys}, Degeneracy: {values}\")"
   ]
  },
  {
   "cell_type": "markdown",
   "id": "528a52c0-aa87-4c67-89d1-ea189f5e2474",
   "metadata": {},
   "source": [
    "## Q3: There and back again \n",
    "Integrate the function:\n",
    "\n",
    "$$f = \\sin(x) e^{-x}$$\n",
    "\n",
    "Then differentiate the result to see if you get back the original function"
   ]
  },
  {
   "cell_type": "code",
   "execution_count": 7,
   "id": "b23b9f79-49fe-45c8-bb78-d7218258d13b",
   "metadata": {},
   "outputs": [
    {
     "data": {
      "image/png": "[encoded data removed]",
      "text/latex": [
       "$\\displaystyle e^{- x} \\sin{\\left(x \\right)}$"
      ],
      "text/plain": [
       " -x       \n",
       "ℯ  ⋅sin(x)"
      ]
     },
     "execution_count": 7,
     "metadata": {},
     "output_type": "execute_result"
    }
   ],
   "source": [
    "x = symbols(\"x\")\n",
    "f = sin(x) * exp(-x)\n",
    "f"
   ]
  },
  {
   "cell_type": "code",
   "execution_count": 8,
   "id": "b4e45433-b7f2-461f-ac7b-215c5b2db855",
   "metadata": {},
   "outputs": [
    {
     "data": {
      "image/png": "[encoded data removed]",
      "text/latex": [
       "$\\displaystyle - \\frac{e^{- x} \\sin{\\left(x \\right)}}{2} - \\frac{e^{- x} \\cos{\\left(x \\right)}}{2}$"
      ],
      "text/plain": [
       "   -x           -x       \n",
       "  ℯ  ⋅sin(x)   ℯ  ⋅cos(x)\n",
       "- ────────── - ──────────\n",
       "      2            2     "
      ]
     },
     "execution_count": 8,
     "metadata": {},
     "output_type": "execute_result"
    }
   ],
   "source": [
    "g = integrate(f)\n",
    "g"
   ]
  },
  {
   "cell_type": "code",
   "execution_count": 9,
   "id": "63c4a1b2-8480-4f7d-b480-6ceba2ddb633",
   "metadata": {},
   "outputs": [
    {
     "data": {
      "image/png": "[encoded data removed]",
      "text/latex": [
       "$\\displaystyle e^{- x} \\sin{\\left(x \\right)}$"
      ],
      "text/plain": [
       " -x       \n",
       "ℯ  ⋅sin(x)"
      ]
     },
     "execution_count": 9,
     "metadata": {},
     "output_type": "execute_result"
    }
   ],
   "source": [
    "diff(g, x)"
   ]
  },
  {
   "cell_type": "markdown",
   "id": "df397d4b-6955-4bed-a852-9a2d9c1ce797",
   "metadata": {},
   "source": [
    "## Q4: Parsing an expression\n",
    "\n",
    "Write a program that reads in a mathematical expression as a string (e.g., `\"sin(2*pi*x)\"`), converts it to a sympy expression, and then evaluates it as needed.  \n",
    "\n",
    "Have your program either make a plot of the entered function, or use the input function as the function to fit a dataset to using curvefit.\n",
    "\n",
    "The following will be helpful:"
   ]
  },
  {
   "cell_type": "markdown",
   "id": "f99be750-b136-4f94-ade9-f8dc4252e7eb",
   "metadata": {},
   "source": [
    "`parse_expr()` will convert a string into a SymPy expression"
   ]
  },
  {
   "cell_type": "code",
   "execution_count": 10,
   "id": "83665e75-7203-46cb-9bc0-0a8f580a2401",
   "metadata": {},
   "outputs": [],
   "source": [
    "from sympy.parsing.sympy_parser import parse_expr\n",
    "from sympy import lambdify"
   ]
  },
  {
   "cell_type": "code",
   "execution_count": 11,
   "id": "e4832090-2b7a-4b78-a019-ef32dee8426e",
   "metadata": {},
   "outputs": [
    {
     "data": {
      "image/png": "[encoded data removed]",
      "text/latex": [
       "$\\displaystyle \\sin{\\left(2 \\pi x \\right)}$"
      ],
      "text/plain": [
       "sin(2⋅π⋅x)"
      ]
     },
     "execution_count": 11,
     "metadata": {},
     "output_type": "execute_result"
    }
   ],
   "source": [
    "s = \"sin(2*pi*x)\"\n",
    "a = parse_expr(s)\n",
    "a"
   ]
  },
  {
   "cell_type": "markdown",
   "id": "96ef1598-dcbe-4713-9c0c-a081b7b8dc6f",
   "metadata": {},
   "source": [
    "`sympy.lambdify()` will convert a sympy expression into a function that is callable by python.  You can make it a numpy-compatible function too (this means, e.g., that any `sin()` in your SymPy expression will be evaluate using `np.sin()`)"
   ]
  },
  {
   "cell_type": "code",
   "execution_count": 12,
   "id": "bb9a6dd1-c7b2-4bd4-8136-96e99fc84f0a",
   "metadata": {},
   "outputs": [],
   "source": [
    "f = lambdify(x, a, \"numpy\")"
   ]
  },
  {
   "cell_type": "code",
   "execution_count": 13,
   "id": "4c9f0aba-8827-4cee-b41e-b000874231ad",
   "metadata": {},
   "outputs": [
    {
     "data": {
      "image/png": "[encoded data removed]",
      "text/latex": [
       "$\\displaystyle -2.44929359829471 \\cdot 10^{-16}$"
      ],
      "text/plain": [
       "-2.4492935982947064e-16"
      ]
     },
     "execution_count": 13,
     "metadata": {},
     "output_type": "execute_result"
    }
   ],
   "source": [
    "f(1.0)"
   ]
  },
  {
   "cell_type": "code",
   "execution_count": 14,
   "id": "e08fc798-d428-4c94-8e4c-677c01c4fe95",
   "metadata": {},
   "outputs": [
    {
     "name": "stdin",
     "output_type": "stream",
     "text": [
      "Write down your f(x):  cos(x)*exp(-x/50)\n",
      "Enter the minimum value of x:  0\n",
      "Enter the maximum value of x:  200\n",
      "Enter the total number of points:  500\n"
     ]
    },
    {
     "data": {
      "image/png": "[encoded data removed]",
      "text/plain": [
       "<Figure size 640x480 with 1 Axes>"
      ]
     },
     "metadata": {},
     "output_type": "display_data"
    }
   ],
   "source": [
    "def parse(string, values):\n",
    "    f = parse_expr(string)\n",
    "    return lambdify(*f.free_symbols, f, \"numpy\")(values)\n",
    "\n",
    "\n",
    "f = input(\"Write down your f(x): \")\n",
    "x_min = float(input(\"Enter the minimum value of x: \"))\n",
    "x_max = float(input(\"Enter the maximum value of x: \"))\n",
    "x_tot = int(input(\"Enter the total number of points: \"))\n",
    "\n",
    "x = np.linspace(x_min, x_max, x_tot)\n",
    "y = parse(f, x)\n",
    "\n",
    "fig = plt.figure()\n",
    "plt.plot(x, y)\n",
    "plt.xlabel(\"x\")\n",
    "plt.ylabel(f\"f(x) = {f}\")\n",
    "plt.show()"
   ]
  },
  {
   "cell_type": "markdown",
   "id": "1195faa0-7971-4c30-90d6-8d3e985d6517",
   "metadata": {},
   "source": [
    "## Q5: Let's go back to high school\n",
    "\n",
    "Newton's 2nd law is\n",
    "\n",
    "$$F = ma$$\n",
    "\n",
    "Create a mass of 1 kg and an acceleration of 10 m/s$^2$, and compute the force, $F$, and express the result in Newtons.\n",
    "\n",
    "Note: the `convert_to` function was added in SymPy 1.1, so if you are using an earlier version, you will need to divide by the target unit to do the conversion."
   ]
  },
  {
   "cell_type": "code",
   "execution_count": 15,
   "id": "ccee17d0-17d3-430c-89d3-7841c5163ed8",
   "metadata": {},
   "outputs": [
    {
     "data": {
      "image/png": "[encoded data removed]",
      "text/latex": [
       "$\\displaystyle a m$"
      ],
      "text/plain": [
       "a⋅m"
      ]
     },
     "execution_count": 15,
     "metadata": {},
     "output_type": "execute_result"
    }
   ],
   "source": [
    "m, a = symbols(\"m a\")\n",
    "F = m * a\n",
    "F"
   ]
  },
  {
   "cell_type": "code",
   "execution_count": 16,
   "id": "4b847838-2410-4797-83e5-53e54837b981",
   "metadata": {},
   "outputs": [
    {
     "data": {
      "image/png": "[encoded data removed]",
      "text/latex": [
       "$\\displaystyle \\frac{10 \\text{kg} \\text{m}}{\\text{s}^{2}}$"
      ],
      "text/plain": [
       "10⋅kilogram⋅meter\n",
       "─────────────────\n",
       "           2     \n",
       "     second      "
      ]
     },
     "execution_count": 16,
     "metadata": {},
     "output_type": "execute_result"
    }
   ],
   "source": [
    "mass = 1 * kilogram\n",
    "acceleration = 10 * meter / (second**2)\n",
    "eval = F.subs({m: mass, a: acceleration})\n",
    "eval"
   ]
  },
  {
   "cell_type": "code",
   "execution_count": 17,
   "id": "e89359d2-5cb2-4a96-a832-227edb9c8da3",
   "metadata": {},
   "outputs": [
    {
     "data": {
      "image/png": "[encoded data removed]",
      "text/latex": [
       "$\\displaystyle 10 \\text{N}$"
      ],
      "text/plain": [
       "10⋅newton"
      ]
     },
     "execution_count": 17,
     "metadata": {},
     "output_type": "execute_result"
    }
   ],
   "source": [
    "convert_to(eval, newton)"
   ]
  }
 ],
 "metadata": {
  "kernelspec": {
   "display_name": "Python 3 (ipykernel)",
   "language": "python",
   "name": "python3"
  },
  "language_info": {
   "codemirror_mode": {
    "name": "ipython",
    "version": 3
   },
   "file_extension": ".py",
   "mimetype": "text/x-python",
   "name": "python",
   "nbconvert_exporter": "python",
   "pygments_lexer": "ipython3",
   "version": "3.11.7"
  }
 },
 "nbformat": 4,
 "nbformat_minor": 5
}
