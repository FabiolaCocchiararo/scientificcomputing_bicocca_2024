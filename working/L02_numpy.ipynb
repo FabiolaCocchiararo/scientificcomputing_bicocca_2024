{
 "cells": [
  {
   "cell_type": "markdown",
   "id": "2c31b777-79ee-41c7-81c2-3c3e41788ac5",
   "metadata": {},
   "source": [
    "# Exercises"
   ]
  },
  {
   "cell_type": "code",
   "execution_count": 1,
   "id": "01d2f37c-4b6e-49a7-947f-ca61384c48be",
   "metadata": {},
   "outputs": [],
   "source": [
    "import numpy as np\n",
    "import os\n",
    "import time\n",
    "import urllib"
   ]
  },
  {
   "cell_type": "markdown",
   "id": "7d1acd01-fe9f-4f5a-b605-e61bd4cd7083",
   "metadata": {},
   "source": [
    "## Q1: Fun with arrays\n",
    "\n",
    "**A.**  Create the array: \n",
    "```\n",
    "[[1,  6, 11],\n",
    " [2,  7, 12],\n",
    " [3,  8, 13],\n",
    " [4,  9, 14],\n",
    " [5, 10, 15]]\n",
    "```\n",
    "with out explicitly typing it in."
   ]
  },
  {
   "cell_type": "code",
   "execution_count": 2,
   "id": "a6646428-2448-40b7-829d-c242eceba031",
   "metadata": {},
   "outputs": [
    {
     "data": {
      "text/plain": [
       "array([[ 1,  6, 11],\n",
       "       [ 2,  7, 12],\n",
       "       [ 3,  8, 13],\n",
       "       [ 4,  9, 14],\n",
       "       [ 5, 10, 15]])"
      ]
     },
     "execution_count": 2,
     "metadata": {},
     "output_type": "execute_result"
    }
   ],
   "source": [
    "array_1 = np.arange(1,16).reshape(3,5).T\n",
    "\n",
    "array_1"
   ]
  },
  {
   "cell_type": "markdown",
   "id": "086e3f62-4ba8-4161-a5fb-2046a75b1648",
   "metadata": {},
   "source": [
    "Now create a new array containing only its 2nd and 4th rows."
   ]
  },
  {
   "cell_type": "code",
   "execution_count": 3,
   "id": "faa930c5-706b-4f8d-acca-80d6680e1ba5",
   "metadata": {},
   "outputs": [
    {
     "data": {
      "text/plain": [
       "array([[ 2,  7, 12],\n",
       "       [ 4,  9, 14]])"
      ]
     },
     "execution_count": 3,
     "metadata": {},
     "output_type": "execute_result"
    }
   ],
   "source": [
    "array_2 = array_1[[1, 3]]\n",
    "\n",
    "array_2"
   ]
  },
  {
   "cell_type": "markdown",
   "id": "baf8d4f8-d06a-456a-bed9-70b718488efe",
   "metadata": {},
   "source": [
    "**B.** Create a 2d array with `1` on the border and `0` on the inside, e.g., like:\n",
    "```\n",
    "1 1 1 1 1\n",
    "1 0 0 0 1\n",
    "1 0 0 0 1\n",
    "1 1 1 1 1\n",
    "```\n",
    "\n",
    "Do this using array slice notation to let it work for an arbitrary-sized array"
   ]
  },
  {
   "cell_type": "code",
   "execution_count": 4,
   "id": "f8b0ce09-6c42-4c43-a857-38a8b76619ff",
   "metadata": {},
   "outputs": [
    {
     "data": {
      "text/plain": [
       "array([[1., 1., 1., 1.],\n",
       "       [1., 0., 0., 1.],\n",
       "       [1., 0., 0., 1.],\n",
       "       [1., 0., 0., 1.],\n",
       "       [1., 1., 1., 1.]])"
      ]
     },
     "execution_count": 4,
     "metadata": {},
     "output_type": "execute_result"
    }
   ],
   "source": [
    "array_3 = np.ones(20).reshape(5,4)\n",
    "array_3[1:-1, 1:-1] = 0\n",
    "\n",
    "array_3"
   ]
  },
  {
   "cell_type": "markdown",
   "id": "832716eb-f3c9-42d8-8fd3-39cb44a9166d",
   "metadata": {},
   "source": [
    "## Q2: Histrograms\n",
    "\n",
    "Here we will read in columns of numbers from a file and create a histogram, using NumPy routines.  Make sure you have the data file\n",
    "\"`sample.txt`\" in the same directory as this notebook. You download it from  https://raw.githubusercontent.com/sbu-python-summer/python-tutorial/master/day-3/sample.txt (and use python to download a file!)\n",
    "\n",
    "  * Use `np.loadtxt()` to read this file in.  \n",
    "\n",
    "  * Next, use `np.histogram()` to create a histogram array.  The output returns both the count and an array of edges.\n",
    "  \n",
    "  * Finally, loop over the bins and print out the bin center (averaging the left and right edges of the bin) and the count for that bin."
   ]
  },
  {
   "cell_type": "code",
   "execution_count": 6,
   "id": "dff3634a-b151-425c-8e32-537cd7fccf8a",
   "metadata": {},
   "outputs": [
    {
     "name": "stdout",
     "output_type": "stream",
     "text": [
      "Bin center: -24.109006493430737, Counts: 6\n",
      "Bin center: -11.150163704648554, Counts: 23\n",
      "Bin center: 1.8086790841336278, Counts: 52\n",
      "Bin center: 14.767521872915811, Counts: 37\n",
      "Bin center: 27.726364661697996, Counts: 16\n",
      "Bin center: 40.68520745048018, Counts: 14\n",
      "Bin center: 53.64405023926236, Counts: 13\n",
      "Bin center: 66.60289302804455, Counts: 13\n",
      "Bin center: 79.56173581682673, Counts: 13\n",
      "Bin center: 92.5205786056089, Counts: 13\n"
     ]
    }
   ],
   "source": [
    "filename = \"misc/sample.txt\"\n",
    "url = \"https://raw.githubusercontent.com/sbu-python-summer/python-tutorial/master/day-3/sample.txt\"\n",
    "\n",
    "if not os.path.exists(filename):\n",
    "    urllib.request.urlretrieve(url, filename)\n",
    "\n",
    "data = np.loadtxt(filename)\n",
    "counts, bin_edges = np.histogram(data, bins=10)\n",
    "\n",
    "for i in range(len(counts)):\n",
    "    bin_center = (bin_edges[i] + bin_edges[i + 1]) / 2\n",
    "    print(f\"Bin center: {bin_center}, Counts: {counts[i]}\")"
   ]
  },
  {
   "cell_type": "markdown",
   "id": "a434d9ac-79be-410f-a86b-70935271161d",
   "metadata": {},
   "source": [
    "## Q3: Are you faster than numpy?\n",
    "\n",
    "Numpy of course has a standard deviation function, `np.std()`, but here we'll write our own that works on a 1-d array (vector).  The standard\n",
    "deviation is a measure of the \"width\" of the distribution of numbers\n",
    "in the vector.\n",
    "\n",
    "Given an array, $a$, and an average $\\bar{a}$, the standard deviation\n",
    "is:\n",
    "$$\n",
    "\\sigma = \\left [ \\frac{1}{N} \\sum_{i=1}^N (a_i - \\bar{a})^2 \\right ]^{1/2}\n",
    "$$\n",
    "\n",
    "Write a function to calculate the standard deviation for an input array, `a`:\n",
    "\n",
    "  * First compute the average of the elements in `a` to define $\\bar{a}$\n",
    "  * Next compute the sum over the squares of $a - \\bar{a}$\n",
    "  * Then divide the sum by the number of elements in the array\n",
    "  * Finally take the square root (you can use `np.sqrt()`)\n",
    "  \n",
    "Test your function on a random array, and compare to the built-in `np.std()`. Check the runtime as well."
   ]
  },
  {
   "cell_type": "code",
   "execution_count": 5,
   "id": "d64a0ea8-78f3-4554-93a4-9223df822025",
   "metadata": {},
   "outputs": [
    {
     "name": "stdout",
     "output_type": "stream",
     "text": [
      "Custom std dev: 0.27226582292177587\n",
      "Custom function: 0.0001537799835205078 sec\n",
      "Numpy std dev: 0.27226582292177587\n",
      "Numpy function: 0.00013113021850585938 sec\n"
     ]
    }
   ],
   "source": [
    "import time\n",
    "\n",
    "def new_std_dev(vec):\n",
    "    mu_vec = np.mean(vec)\n",
    "    sum_squared_diff_vec = np.sum((vec - mu_vec) ** 2)\n",
    "    variance_vec = sum_squared_diff_vec / len(vec)\n",
    "    std_dev_vec = np.sqrt(variance_vec)\n",
    "    \n",
    "    return std_dev_vec\n",
    "\n",
    "np.random.seed(0)\n",
    "a = np.random.rand(50)\n",
    "\n",
    "# Custom standard deviation function\n",
    "start_time = time.time()\n",
    "std_dev = new_std_dev(a)\n",
    "delta_time = time.time() - start_time\n",
    "\n",
    "print(f\"Custom std dev: {std_dev}\")\n",
    "print(f\"Custom function: {delta_time} sec\")\n",
    "\n",
    "# Numpy standard deviation function\n",
    "start_time = time.time()\n",
    "std_dev = np.std(a)\n",
    "delta_time = time.time() - start_time\n",
    "\n",
    "print(f\"Numpy std dev: {std_dev}\")\n",
    "print(f\"Numpy function: {delta_time} sec\")"
   ]
  },
  {
   "cell_type": "markdown",
   "id": "8b0e8335-d967-4d40-8ec5-c3bf6b9b7eb4",
   "metadata": {},
   "source": [
    "## Q5: Einstein summation\n",
    "\n",
    "einsum is a powerful (but often painful) numpy thing:\n",
    "- https://numpy.org/doc/stable/reference/generated/numpy.einsum.html\n",
    "- https://stackoverflow.com/questions/26089893/understanding-numpys-einsum\n",
    "\n",
    "Take 2 vectors A and B. Write the einsum equivalent of inner, outer, sum, and mul function."
   ]
  },
  {
   "cell_type": "code",
   "execution_count": 6,
   "id": "88987096-2ee8-4acf-bbfc-0eb4b46151e1",
   "metadata": {},
   "outputs": [
    {
     "name": "stdout",
     "output_type": "stream",
     "text": [
      "Inner product: 32\n",
      "Outer product:\n",
      " [[ 4  5  6]\n",
      " [ 8 10 12]\n",
      " [12 15 18]]\n",
      "Sum of elements in A: 6\n",
      "Sum of elements in B: 15\n",
      "Multiplication: [ 4 10 18]\n"
     ]
    }
   ],
   "source": [
    "a = np.array([1, 2, 3])\n",
    "b = np.array([4, 5, 6])\n",
    "\n",
    "inner_product = np.einsum(\"i,i->\", a, b)\n",
    "outer_product = np.einsum(\"i,j->ij\", a, b)\n",
    "sum_a = np.einsum(\"i->\", a)\n",
    "sum_b = np.einsum(\"i->\", b)\n",
    "mul = np.einsum(\"i,i->i\", a, b)\n",
    "\n",
    "print(f\"Inner product: {inner_product}\")\n",
    "print(f\"Outer product:\\n {outer_product}\")\n",
    "print(f\"Sum of elements in A: {sum_a}\")\n",
    "print(f\"Sum of elements in B: {sum_b}\")\n",
    "print(f\"Multiplication: {mul}\")"
   ]
  }
 ],
 "metadata": {
  "kernelspec": {
   "display_name": "Python 3 (ipykernel)",
   "language": "python",
   "name": "python3"
  },
  "language_info": {
   "codemirror_mode": {
    "name": "ipython",
    "version": 3
   },
   "file_extension": ".py",
   "mimetype": "text/x-python",
   "name": "python",
   "nbconvert_exporter": "python",
   "pygments_lexer": "ipython3",
   "version": "3.11.7"
  }
 },
 "nbformat": 4,
 "nbformat_minor": 5
}
