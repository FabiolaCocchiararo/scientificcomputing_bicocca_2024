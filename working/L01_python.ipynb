{
 "cells": [
  {
   "cell_type": "markdown",
   "metadata": {},
   "source": [
    "# Exercises\n",
    "\n",
    "Work on those you like the most. For the exam, preparing 2 of these is enough (or 3 if you pick those that are very short)."
   ]
  },
  {
   "cell_type": "markdown",
   "metadata": {},
   "source": [
    "## Q1: Machine precision\n",
    "\n",
    "When talking about floating point, we discussed _machine epsilon_, $\\epsilon$&mdash;this is the smallest number that when added to 1 is still different from 1.\n",
    "\n",
    "We'll compute $\\epsilon$ here:\n",
    "\n",
    "  * Pick an initial guess for $\\epsilon$ of `eps = 1`.  \n",
    "\n",
    "  * Create a loop that checks whether `1 + eps` is different from `1`\n",
    "  \n",
    "  * Each loop iteration, cut the value of `eps` in half\n",
    "  \n",
    "What value of $\\epsilon$ do you find?\n",
    "\n"
   ]
  },
  {
   "cell_type": "code",
   "execution_count": 1,
   "metadata": {},
   "outputs": [
    {
     "name": "stdout",
     "output_type": "stream",
     "text": [
      "ε = 1.1102230246251565e-16\n"
     ]
    }
   ],
   "source": [
    "eps = 1\n",
    "\n",
    "while 1+eps != 1:\n",
    "    eps /= 2\n",
    "\n",
    "print(f\"\\u03B5 = {eps}\")"
   ]
  },
  {
   "cell_type": "markdown",
   "metadata": {
    "tags": []
   },
   "source": [
    "## Q2: Iterations\n",
    "\n",
    "### Part 1\n",
    "\n",
    "To iterate over the tuples, where the _i_-th tuple contains the _i_-th elements of certain sequences, we can use `zip(*sequences)` function.\n",
    "\n",
    "We will iterate over two lists, `names` and `age`, and print out the resulting tuples.\n",
    "\n",
    "  * Start by initializing lists `names = [\"Mary\", \"John\", \"Sarah\"]` and `age = [21, 56, 98]`.\n",
    "  \n",
    "  * Iterate over the tuples containing a name and an age, the `zip(list1, list2)` function might be useful here.\n",
    "  \n",
    "  * Print out formatted strings of the type \"*NAME is AGE years old*\"."
   ]
  },
  {
   "cell_type": "code",
   "execution_count": 2,
   "metadata": {},
   "outputs": [
    {
     "name": "stdout",
     "output_type": "stream",
     "text": [
      "Mary is 21 years old\n",
      "John is 56 years old\n",
      "Sarah is 98 years old\n"
     ]
    }
   ],
   "source": [
    "names = [\"Mary\", \"John\", \"Sarah\"]\n",
    "ages = [21, 56, 98]\n",
    "\n",
    "for name, age in zip(names, ages):\n",
    "    print(f\"{name} is {age} years old\")"
   ]
  },
  {
   "cell_type": "markdown",
   "metadata": {},
   "source": [
    "### Part 2\n",
    "\n",
    "The function `enumerate(sequence)` returns tuples containing indices of objects in the sequence, and the objects. \n",
    "\n",
    "The `random` module provides tools for working with the random numbers. In particular, `random.randint(start, end)` generates a random number not smaller than `start`, and not bigger than `end`.\n",
    "\n",
    "  * Generate a list of 10 random numbers from 0 to 9.\n",
    "  \n",
    "  * Using the `enumerate(random_list)` function, iterate over the tuples of random numbers and their indices, and print out *\"Match: NUMBER and INDEX\"* if the random number and its index in the list match."
   ]
  },
  {
   "cell_type": "code",
   "execution_count": 3,
   "metadata": {},
   "outputs": [
    {
     "name": "stdout",
     "output_type": "stream",
     "text": [
      "Match: 4 and 4\n"
     ]
    }
   ],
   "source": [
    "import random\n",
    "\n",
    "random_list = [random.randint(0,9) for i in range(10)]\n",
    "\n",
    "for k, v in enumerate(random_list):\n",
    "    if k == v:\n",
    "        print(f\"Match: {v} and {k}\")"
   ]
  },
  {
   "cell_type": "markdown",
   "metadata": {},
   "source": [
    "## Q3: Books\n",
    "\n",
    "Here is a list of book titles (from http://thegreatestbooks.org).  Loop through the list and capitalize each word in each title. "
   ]
  },
  {
   "cell_type": "code",
   "execution_count": 4,
   "metadata": {
    "tags": []
   },
   "outputs": [],
   "source": [
    "titles = [\"don quixote\", \n",
    "          \"in search of lost time\", \n",
    "          \"ulysses\", \n",
    "          \"the odyssey\", \n",
    "          \"war and piece\", \n",
    "          \"moby dick\", \n",
    "          \"the divine comedy\", \n",
    "          \"hamlet\", \n",
    "          \"the adventures of huckleberry finn\", \n",
    "          \"the great gatsby\"]"
   ]
  },
  {
   "cell_type": "code",
   "execution_count": 5,
   "metadata": {
    "tags": []
   },
   "outputs": [
    {
     "data": {
      "text/plain": [
       "['Don Quixote',\n",
       " 'In Search Of Lost Time',\n",
       " 'Ulysses',\n",
       " 'The Odyssey',\n",
       " 'War And Piece',\n",
       " 'Moby Dick',\n",
       " 'The Divine Comedy',\n",
       " 'Hamlet',\n",
       " 'The Adventures Of Huckleberry Finn',\n",
       " 'The Great Gatsby']"
      ]
     },
     "execution_count": 5,
     "metadata": {},
     "output_type": "execute_result"
    }
   ],
   "source": [
    "new_titles = [title.title() for title in titles]\n",
    "new_titles"
   ]
  },
  {
   "cell_type": "markdown",
   "metadata": {},
   "source": [
    "## Q4: Word counts\n",
    "\n",
    "Here's some text (the Gettysburg Address).  Our goal is to count how many times each word repeats.  We'll do a brute force method first, and then we'll look a ways to do it more efficiently (and compactly)."
   ]
  },
  {
   "cell_type": "code",
   "execution_count": 6,
   "metadata": {
    "tags": []
   },
   "outputs": [],
   "source": [
    "gettysburg_address = \"\"\"\n",
    "Four score and seven years ago our fathers brought forth on this continent, \n",
    "a new nation, conceived in Liberty, and dedicated to the proposition that \n",
    "all men are created equal.\n",
    "\n",
    "Now we are engaged in a great civil war, testing whether that nation, or \n",
    "any nation so conceived and so dedicated, can long endure. We are met on\n",
    "a great battle-field of that war. We have come to dedicate a portion of\n",
    "that field, as a final resting place for those who here gave their lives\n",
    "that that nation might live. It is altogether fitting and proper that we\n",
    "should do this.\n",
    "\n",
    "But, in a larger sense, we can not dedicate -- we can not consecrate -- we\n",
    "can not hallow -- this ground. The brave men, living and dead, who struggled\n",
    "here, have consecrated it, far above our poor power to add or detract.  The\n",
    "world will little note, nor long remember what we say here, but it can never\n",
    "forget what they did here. It is for us the living, rather, to be dedicated\n",
    "here to the unfinished work which they who fought here have thus far so nobly\n",
    "advanced. It is rather for us to be here dedicated to the great task remaining\n",
    "before us -- that from these honored dead we take increased devotion to that\n",
    "cause for which they gave the last full measure of devotion -- that we here\n",
    "highly resolve that these dead shall not have died in vain -- that this\n",
    "nation, under God, shall have a new birth of freedom -- and that government\n",
    "of the people, by the people, for the people, shall not perish from the earth.\n",
    "\"\"\""
   ]
  },
  {
   "cell_type": "markdown",
   "metadata": {},
   "source": [
    "We've already seen the `.split()` method will, by default, split by spaces, so it will split this into words, producing a list:"
   ]
  },
  {
   "cell_type": "code",
   "execution_count": 7,
   "metadata": {
    "tags": []
   },
   "outputs": [],
   "source": [
    "ga = gettysburg_address.split()"
   ]
  },
  {
   "cell_type": "code",
   "execution_count": 8,
   "metadata": {},
   "outputs": [
    {
     "data": {
      "text/plain": [
       "['Four',\n",
       " 'score',\n",
       " 'and',\n",
       " 'seven',\n",
       " 'years',\n",
       " 'ago',\n",
       " 'our',\n",
       " 'fathers',\n",
       " 'brought',\n",
       " 'forth',\n",
       " 'on',\n",
       " 'this',\n",
       " 'continent,',\n",
       " 'a',\n",
       " 'new',\n",
       " 'nation,',\n",
       " 'conceived',\n",
       " 'in',\n",
       " 'Liberty,',\n",
       " 'and',\n",
       " 'dedicated',\n",
       " 'to',\n",
       " 'the',\n",
       " 'proposition',\n",
       " 'that',\n",
       " 'all',\n",
       " 'men',\n",
       " 'are',\n",
       " 'created',\n",
       " 'equal.',\n",
       " 'Now',\n",
       " 'we',\n",
       " 'are',\n",
       " 'engaged',\n",
       " 'in',\n",
       " 'a',\n",
       " 'great',\n",
       " 'civil',\n",
       " 'war,',\n",
       " 'testing',\n",
       " 'whether',\n",
       " 'that',\n",
       " 'nation,',\n",
       " 'or',\n",
       " 'any',\n",
       " 'nation',\n",
       " 'so',\n",
       " 'conceived',\n",
       " 'and',\n",
       " 'so',\n",
       " 'dedicated,',\n",
       " 'can',\n",
       " 'long',\n",
       " 'endure.',\n",
       " 'We',\n",
       " 'are',\n",
       " 'met',\n",
       " 'on',\n",
       " 'a',\n",
       " 'great',\n",
       " 'battle-field',\n",
       " 'of',\n",
       " 'that',\n",
       " 'war.',\n",
       " 'We',\n",
       " 'have',\n",
       " 'come',\n",
       " 'to',\n",
       " 'dedicate',\n",
       " 'a',\n",
       " 'portion',\n",
       " 'of',\n",
       " 'that',\n",
       " 'field,',\n",
       " 'as',\n",
       " 'a',\n",
       " 'final',\n",
       " 'resting',\n",
       " 'place',\n",
       " 'for',\n",
       " 'those',\n",
       " 'who',\n",
       " 'here',\n",
       " 'gave',\n",
       " 'their',\n",
       " 'lives',\n",
       " 'that',\n",
       " 'that',\n",
       " 'nation',\n",
       " 'might',\n",
       " 'live.',\n",
       " 'It',\n",
       " 'is',\n",
       " 'altogether',\n",
       " 'fitting',\n",
       " 'and',\n",
       " 'proper',\n",
       " 'that',\n",
       " 'we',\n",
       " 'should',\n",
       " 'do',\n",
       " 'this.',\n",
       " 'But,',\n",
       " 'in',\n",
       " 'a',\n",
       " 'larger',\n",
       " 'sense,',\n",
       " 'we',\n",
       " 'can',\n",
       " 'not',\n",
       " 'dedicate',\n",
       " '--',\n",
       " 'we',\n",
       " 'can',\n",
       " 'not',\n",
       " 'consecrate',\n",
       " '--',\n",
       " 'we',\n",
       " 'can',\n",
       " 'not',\n",
       " 'hallow',\n",
       " '--',\n",
       " 'this',\n",
       " 'ground.',\n",
       " 'The',\n",
       " 'brave',\n",
       " 'men,',\n",
       " 'living',\n",
       " 'and',\n",
       " 'dead,',\n",
       " 'who',\n",
       " 'struggled',\n",
       " 'here,',\n",
       " 'have',\n",
       " 'consecrated',\n",
       " 'it,',\n",
       " 'far',\n",
       " 'above',\n",
       " 'our',\n",
       " 'poor',\n",
       " 'power',\n",
       " 'to',\n",
       " 'add',\n",
       " 'or',\n",
       " 'detract.',\n",
       " 'The',\n",
       " 'world',\n",
       " 'will',\n",
       " 'little',\n",
       " 'note,',\n",
       " 'nor',\n",
       " 'long',\n",
       " 'remember',\n",
       " 'what',\n",
       " 'we',\n",
       " 'say',\n",
       " 'here,',\n",
       " 'but',\n",
       " 'it',\n",
       " 'can',\n",
       " 'never',\n",
       " 'forget',\n",
       " 'what',\n",
       " 'they',\n",
       " 'did',\n",
       " 'here.',\n",
       " 'It',\n",
       " 'is',\n",
       " 'for',\n",
       " 'us',\n",
       " 'the',\n",
       " 'living,',\n",
       " 'rather,',\n",
       " 'to',\n",
       " 'be',\n",
       " 'dedicated',\n",
       " 'here',\n",
       " 'to',\n",
       " 'the',\n",
       " 'unfinished',\n",
       " 'work',\n",
       " 'which',\n",
       " 'they',\n",
       " 'who',\n",
       " 'fought',\n",
       " 'here',\n",
       " 'have',\n",
       " 'thus',\n",
       " 'far',\n",
       " 'so',\n",
       " 'nobly',\n",
       " 'advanced.',\n",
       " 'It',\n",
       " 'is',\n",
       " 'rather',\n",
       " 'for',\n",
       " 'us',\n",
       " 'to',\n",
       " 'be',\n",
       " 'here',\n",
       " 'dedicated',\n",
       " 'to',\n",
       " 'the',\n",
       " 'great',\n",
       " 'task',\n",
       " 'remaining',\n",
       " 'before',\n",
       " 'us',\n",
       " '--',\n",
       " 'that',\n",
       " 'from',\n",
       " 'these',\n",
       " 'honored',\n",
       " 'dead',\n",
       " 'we',\n",
       " 'take',\n",
       " 'increased',\n",
       " 'devotion',\n",
       " 'to',\n",
       " 'that',\n",
       " 'cause',\n",
       " 'for',\n",
       " 'which',\n",
       " 'they',\n",
       " 'gave',\n",
       " 'the',\n",
       " 'last',\n",
       " 'full',\n",
       " 'measure',\n",
       " 'of',\n",
       " 'devotion',\n",
       " '--',\n",
       " 'that',\n",
       " 'we',\n",
       " 'here',\n",
       " 'highly',\n",
       " 'resolve',\n",
       " 'that',\n",
       " 'these',\n",
       " 'dead',\n",
       " 'shall',\n",
       " 'not',\n",
       " 'have',\n",
       " 'died',\n",
       " 'in',\n",
       " 'vain',\n",
       " '--',\n",
       " 'that',\n",
       " 'this',\n",
       " 'nation,',\n",
       " 'under',\n",
       " 'God,',\n",
       " 'shall',\n",
       " 'have',\n",
       " 'a',\n",
       " 'new',\n",
       " 'birth',\n",
       " 'of',\n",
       " 'freedom',\n",
       " '--',\n",
       " 'and',\n",
       " 'that',\n",
       " 'government',\n",
       " 'of',\n",
       " 'the',\n",
       " 'people,',\n",
       " 'by',\n",
       " 'the',\n",
       " 'people,',\n",
       " 'for',\n",
       " 'the',\n",
       " 'people,',\n",
       " 'shall',\n",
       " 'not',\n",
       " 'perish',\n",
       " 'from',\n",
       " 'the',\n",
       " 'earth.']"
      ]
     },
     "execution_count": 8,
     "metadata": {},
     "output_type": "execute_result"
    }
   ],
   "source": [
    "ga"
   ]
  },
  {
   "cell_type": "markdown",
   "metadata": {},
   "source": [
    "Now, the next problem is that some of these still have punctuation.  In particular, we see \"`.`\", \"`,`\", and \"`--`\".\n",
    "\n",
    "When considering a word, we can get rid of these by using the `replace()` method:"
   ]
  },
  {
   "cell_type": "code",
   "execution_count": 9,
   "metadata": {},
   "outputs": [
    {
     "data": {
      "text/plain": [
       "'end'"
      ]
     },
     "execution_count": 9,
     "metadata": {},
     "output_type": "execute_result"
    }
   ],
   "source": [
    "a = \"end.,\"\n",
    "b = a.replace(\".\", \"\").replace(\",\", \"\")\n",
    "b"
   ]
  },
  {
   "cell_type": "markdown",
   "metadata": {},
   "source": [
    "Another problem is case&mdash;we want to count \"but\" and \"But\" as the same.  Strings have a `lower()` method that can be used to convert a string:"
   ]
  },
  {
   "cell_type": "code",
   "execution_count": 10,
   "metadata": {},
   "outputs": [
    {
     "data": {
      "text/plain": [
       "False"
      ]
     },
     "execution_count": 10,
     "metadata": {},
     "output_type": "execute_result"
    }
   ],
   "source": [
    "a = \"But\"\n",
    "b = \"but\"\n",
    "a == b"
   ]
  },
  {
   "cell_type": "code",
   "execution_count": 11,
   "metadata": {},
   "outputs": [
    {
     "data": {
      "text/plain": [
       "True"
      ]
     },
     "execution_count": 11,
     "metadata": {},
     "output_type": "execute_result"
    }
   ],
   "source": [
    "a.lower() == b.lower()"
   ]
  },
  {
   "cell_type": "markdown",
   "metadata": {},
   "source": [
    "Recall that strings are immutable, so `replace()` produces a new string on output."
   ]
  },
  {
   "cell_type": "markdown",
   "metadata": {},
   "source": [
    "### Your task\n",
    "\n",
    "Create a dictionary that uses the unique words as keys and has as a value the number of times that word appears.  \n",
    "\n",
    "Write a loop over the words in the string (using our split version) and do the following:\n",
    "  * remove any punctuation\n",
    "  * convert to lowercase\n",
    "  * test if the word is already a key in the dictionary (using the `in` operator)\n",
    "     - if the key exists, increment the word count for that key\n",
    "     - otherwise, add it to the dictionary with the appropriate count of `1`.\n",
    "\n",
    "At the end, print out the words and a count of how many times they appear"
   ]
  },
  {
   "cell_type": "code",
   "execution_count": 12,
   "metadata": {
    "tags": []
   },
   "outputs": [
    {
     "data": {
      "text/plain": [
       "{'four': 1,\n",
       " 'score': 1,\n",
       " 'and': 6,\n",
       " 'seven': 1,\n",
       " 'years': 1,\n",
       " 'ago': 1,\n",
       " 'our': 2,\n",
       " 'fathers': 1,\n",
       " 'brought': 1,\n",
       " 'forth': 1,\n",
       " 'on': 2,\n",
       " 'this': 4,\n",
       " 'continent': 1,\n",
       " 'a': 7,\n",
       " 'new': 2,\n",
       " 'nation': 5,\n",
       " 'conceived': 2,\n",
       " 'in': 4,\n",
       " 'liberty': 1,\n",
       " 'dedicated': 4,\n",
       " 'to': 8,\n",
       " 'the': 11,\n",
       " 'proposition': 1,\n",
       " 'that': 13,\n",
       " 'all': 1,\n",
       " 'men': 2,\n",
       " 'are': 3,\n",
       " 'created': 1,\n",
       " 'equal': 1,\n",
       " 'now': 1,\n",
       " 'we': 10,\n",
       " 'engaged': 1,\n",
       " 'great': 3,\n",
       " 'civil': 1,\n",
       " 'war': 2,\n",
       " 'testing': 1,\n",
       " 'whether': 1,\n",
       " 'or': 2,\n",
       " 'any': 1,\n",
       " 'so': 3,\n",
       " 'can': 5,\n",
       " 'long': 2,\n",
       " 'endure': 1,\n",
       " 'met': 1,\n",
       " 'battle-field': 1,\n",
       " 'of': 5,\n",
       " 'have': 5,\n",
       " 'come': 1,\n",
       " 'dedicate': 2,\n",
       " 'portion': 1,\n",
       " 'field': 1,\n",
       " 'as': 1,\n",
       " 'final': 1,\n",
       " 'resting': 1,\n",
       " 'place': 1,\n",
       " 'for': 5,\n",
       " 'those': 1,\n",
       " 'who': 3,\n",
       " 'here': 8,\n",
       " 'gave': 2,\n",
       " 'their': 1,\n",
       " 'lives': 1,\n",
       " 'might': 1,\n",
       " 'live': 1,\n",
       " 'it': 5,\n",
       " 'is': 3,\n",
       " 'altogether': 1,\n",
       " 'fitting': 1,\n",
       " 'proper': 1,\n",
       " 'should': 1,\n",
       " 'do': 1,\n",
       " 'but': 2,\n",
       " 'larger': 1,\n",
       " 'sense': 1,\n",
       " 'not': 5,\n",
       " '--': 7,\n",
       " 'consecrate': 1,\n",
       " 'hallow': 1,\n",
       " 'ground': 1,\n",
       " 'brave': 1,\n",
       " 'living': 2,\n",
       " 'dead': 3,\n",
       " 'struggled': 1,\n",
       " 'consecrated': 1,\n",
       " 'far': 2,\n",
       " 'above': 1,\n",
       " 'poor': 1,\n",
       " 'power': 1,\n",
       " 'add': 1,\n",
       " 'detract': 1,\n",
       " 'world': 1,\n",
       " 'will': 1,\n",
       " 'little': 1,\n",
       " 'note': 1,\n",
       " 'nor': 1,\n",
       " 'remember': 1,\n",
       " 'what': 2,\n",
       " 'say': 1,\n",
       " 'never': 1,\n",
       " 'forget': 1,\n",
       " 'they': 3,\n",
       " 'did': 1,\n",
       " 'us': 3,\n",
       " 'rather': 2,\n",
       " 'be': 2,\n",
       " 'unfinished': 1,\n",
       " 'work': 1,\n",
       " 'which': 2,\n",
       " 'fought': 1,\n",
       " 'thus': 1,\n",
       " 'nobly': 1,\n",
       " 'advanced': 1,\n",
       " 'task': 1,\n",
       " 'remaining': 1,\n",
       " 'before': 1,\n",
       " 'from': 2,\n",
       " 'these': 2,\n",
       " 'honored': 1,\n",
       " 'take': 1,\n",
       " 'increased': 1,\n",
       " 'devotion': 2,\n",
       " 'cause': 1,\n",
       " 'last': 1,\n",
       " 'full': 1,\n",
       " 'measure': 1,\n",
       " 'highly': 1,\n",
       " 'resolve': 1,\n",
       " 'shall': 3,\n",
       " 'died': 1,\n",
       " 'vain': 1,\n",
       " 'under': 1,\n",
       " 'god': 1,\n",
       " 'birth': 1,\n",
       " 'freedom': 1,\n",
       " 'government': 1,\n",
       " 'people': 3,\n",
       " 'by': 1,\n",
       " 'perish': 1,\n",
       " 'earth': 1}"
      ]
     },
     "execution_count": 12,
     "metadata": {},
     "output_type": "execute_result"
    }
   ],
   "source": [
    "words = {}\n",
    "for word in ga:\n",
    "    word = word.lower().replace(\".\", \"\").replace(\",\", \"\")\n",
    "    if word in words:\n",
    "        words[word] += 1\n",
    "    else:\n",
    "        words[word] = 1\n",
    "\n",
    "words"
   ]
  },
  {
   "cell_type": "markdown",
   "metadata": {},
   "source": [
    "### More compact way\n",
    "\n",
    "We can actually do this a lot more compactly by using another list comprehensions and another python datatype called a set.  A set is a group of items, where each item is unique (e.g., no repetitions)."
   ]
  },
  {
   "cell_type": "markdown",
   "metadata": {},
   "source": [
    "Here's a list comprehension that removes all the punctuation and converts to lower case:"
   ]
  },
  {
   "cell_type": "code",
   "execution_count": 13,
   "metadata": {
    "tags": []
   },
   "outputs": [],
   "source": [
    "words = [q.lower().replace(\".\", \"\").replace(\",\", \"\") for q in ga]"
   ]
  },
  {
   "cell_type": "markdown",
   "metadata": {},
   "source": [
    "and by using the `set()` function, we turn the list into a set, removing any duplicates:"
   ]
  },
  {
   "cell_type": "code",
   "execution_count": 14,
   "metadata": {
    "tags": []
   },
   "outputs": [],
   "source": [
    "unique_words = set(words)"
   ]
  },
  {
   "cell_type": "markdown",
   "metadata": {},
   "source": [
    "now we can loop over the unique words and use the `count` method of a list to find how many there are"
   ]
  },
  {
   "cell_type": "code",
   "execution_count": 15,
   "metadata": {},
   "outputs": [
    {
     "data": {
      "text/plain": [
       "{'power': 1,\n",
       " 'poor': 1,\n",
       " 'final': 1,\n",
       " 'increased': 1,\n",
       " 'brought': 1,\n",
       " 'whether': 1,\n",
       " 'nor': 1,\n",
       " 'or': 2,\n",
       " 'for': 5,\n",
       " 'fought': 1,\n",
       " 'four': 1,\n",
       " 'birth': 1,\n",
       " 'shall': 3,\n",
       " 'those': 1,\n",
       " 'larger': 1,\n",
       " 'ago': 1,\n",
       " 'freedom': 1,\n",
       " 'say': 1,\n",
       " 'struggled': 1,\n",
       " 'honored': 1,\n",
       " 'they': 3,\n",
       " 'add': 1,\n",
       " 'do': 1,\n",
       " 'we': 10,\n",
       " 'can': 5,\n",
       " 'continent': 1,\n",
       " 'liberty': 1,\n",
       " 'nobly': 1,\n",
       " 'should': 1,\n",
       " 'might': 1,\n",
       " 'forth': 1,\n",
       " 'live': 1,\n",
       " 'created': 1,\n",
       " 'from': 2,\n",
       " 'did': 1,\n",
       " 'it': 5,\n",
       " 'by': 1,\n",
       " 'but': 2,\n",
       " 'which': 2,\n",
       " 'dedicate': 2,\n",
       " 'sense': 1,\n",
       " 'dedicated': 4,\n",
       " 'god': 1,\n",
       " 'consecrate': 1,\n",
       " 'vain': 1,\n",
       " 'perish': 1,\n",
       " 'consecrated': 1,\n",
       " 'last': 1,\n",
       " 'of': 5,\n",
       " 'world': 1,\n",
       " 'field': 1,\n",
       " 'detract': 1,\n",
       " 'now': 1,\n",
       " 'people': 3,\n",
       " 'little': 1,\n",
       " 'civil': 1,\n",
       " 'resting': 1,\n",
       " 'place': 1,\n",
       " 'conceived': 2,\n",
       " 'nation': 5,\n",
       " 'hallow': 1,\n",
       " 'proper': 1,\n",
       " 'highly': 1,\n",
       " 'seven': 1,\n",
       " 'rather': 2,\n",
       " 'died': 1,\n",
       " 'a': 7,\n",
       " 'men': 2,\n",
       " 'this': 4,\n",
       " 'to': 8,\n",
       " 'are': 3,\n",
       " 'devotion': 2,\n",
       " 'score': 1,\n",
       " 'here': 8,\n",
       " 'advanced': 1,\n",
       " 'our': 2,\n",
       " 'all': 1,\n",
       " 'years': 1,\n",
       " 'altogether': 1,\n",
       " 'what': 2,\n",
       " 'engaged': 1,\n",
       " 'above': 1,\n",
       " 'far': 2,\n",
       " 'not': 5,\n",
       " 'come': 1,\n",
       " 'ground': 1,\n",
       " 'will': 1,\n",
       " 'thus': 1,\n",
       " 'task': 1,\n",
       " 'remaining': 1,\n",
       " 'equal': 1,\n",
       " 'new': 2,\n",
       " 'is': 3,\n",
       " 'dead': 3,\n",
       " 'have': 5,\n",
       " 'unfinished': 1,\n",
       " 'forget': 1,\n",
       " 'note': 1,\n",
       " 'fitting': 1,\n",
       " 'under': 1,\n",
       " 'government': 1,\n",
       " 'work': 1,\n",
       " 'take': 1,\n",
       " 'that': 13,\n",
       " 'fathers': 1,\n",
       " 'these': 2,\n",
       " 'the': 11,\n",
       " 'in': 4,\n",
       " 'resolve': 1,\n",
       " 'great': 3,\n",
       " 'long': 2,\n",
       " 'met': 1,\n",
       " 'their': 1,\n",
       " 'battle-field': 1,\n",
       " 'remember': 1,\n",
       " 'full': 1,\n",
       " 'earth': 1,\n",
       " 'us': 3,\n",
       " 'before': 1,\n",
       " 'war': 2,\n",
       " 'who': 3,\n",
       " 'so': 3,\n",
       " 'never': 1,\n",
       " 'proposition': 1,\n",
       " 'lives': 1,\n",
       " 'brave': 1,\n",
       " 'be': 2,\n",
       " 'endure': 1,\n",
       " 'measure': 1,\n",
       " 'as': 1,\n",
       " 'on': 2,\n",
       " 'cause': 1,\n",
       " 'portion': 1,\n",
       " 'testing': 1,\n",
       " 'gave': 2,\n",
       " 'and': 6,\n",
       " 'any': 1,\n",
       " '--': 7,\n",
       " 'living': 2}"
      ]
     },
     "execution_count": 15,
     "metadata": {},
     "output_type": "execute_result"
    }
   ],
   "source": [
    "count = {}\n",
    "for uw in unique_words:\n",
    "    count[uw] = words.count(uw)\n",
    "    \n",
    "count"
   ]
  },
  {
   "cell_type": "markdown",
   "metadata": {},
   "source": [
    "Even shorter -- we can use a dictionary comprehension, like a list comprehension"
   ]
  },
  {
   "cell_type": "code",
   "execution_count": 16,
   "metadata": {
    "tags": []
   },
   "outputs": [],
   "source": [
    "c = {uw: count[uw] for uw in unique_words}"
   ]
  },
  {
   "cell_type": "code",
   "execution_count": 17,
   "metadata": {},
   "outputs": [
    {
     "data": {
      "text/plain": [
       "{'power': 1,\n",
       " 'poor': 1,\n",
       " 'final': 1,\n",
       " 'increased': 1,\n",
       " 'brought': 1,\n",
       " 'whether': 1,\n",
       " 'nor': 1,\n",
       " 'or': 2,\n",
       " 'for': 5,\n",
       " 'fought': 1,\n",
       " 'four': 1,\n",
       " 'birth': 1,\n",
       " 'shall': 3,\n",
       " 'those': 1,\n",
       " 'larger': 1,\n",
       " 'ago': 1,\n",
       " 'freedom': 1,\n",
       " 'say': 1,\n",
       " 'struggled': 1,\n",
       " 'honored': 1,\n",
       " 'they': 3,\n",
       " 'add': 1,\n",
       " 'do': 1,\n",
       " 'we': 10,\n",
       " 'can': 5,\n",
       " 'continent': 1,\n",
       " 'liberty': 1,\n",
       " 'nobly': 1,\n",
       " 'should': 1,\n",
       " 'might': 1,\n",
       " 'forth': 1,\n",
       " 'live': 1,\n",
       " 'created': 1,\n",
       " 'from': 2,\n",
       " 'did': 1,\n",
       " 'it': 5,\n",
       " 'by': 1,\n",
       " 'but': 2,\n",
       " 'which': 2,\n",
       " 'dedicate': 2,\n",
       " 'sense': 1,\n",
       " 'dedicated': 4,\n",
       " 'god': 1,\n",
       " 'consecrate': 1,\n",
       " 'vain': 1,\n",
       " 'perish': 1,\n",
       " 'consecrated': 1,\n",
       " 'last': 1,\n",
       " 'of': 5,\n",
       " 'world': 1,\n",
       " 'field': 1,\n",
       " 'detract': 1,\n",
       " 'now': 1,\n",
       " 'people': 3,\n",
       " 'little': 1,\n",
       " 'civil': 1,\n",
       " 'resting': 1,\n",
       " 'place': 1,\n",
       " 'conceived': 2,\n",
       " 'nation': 5,\n",
       " 'hallow': 1,\n",
       " 'proper': 1,\n",
       " 'highly': 1,\n",
       " 'seven': 1,\n",
       " 'rather': 2,\n",
       " 'died': 1,\n",
       " 'a': 7,\n",
       " 'men': 2,\n",
       " 'this': 4,\n",
       " 'to': 8,\n",
       " 'are': 3,\n",
       " 'devotion': 2,\n",
       " 'score': 1,\n",
       " 'here': 8,\n",
       " 'advanced': 1,\n",
       " 'our': 2,\n",
       " 'all': 1,\n",
       " 'years': 1,\n",
       " 'altogether': 1,\n",
       " 'what': 2,\n",
       " 'engaged': 1,\n",
       " 'above': 1,\n",
       " 'far': 2,\n",
       " 'not': 5,\n",
       " 'come': 1,\n",
       " 'ground': 1,\n",
       " 'will': 1,\n",
       " 'thus': 1,\n",
       " 'task': 1,\n",
       " 'remaining': 1,\n",
       " 'equal': 1,\n",
       " 'new': 2,\n",
       " 'is': 3,\n",
       " 'dead': 3,\n",
       " 'have': 5,\n",
       " 'unfinished': 1,\n",
       " 'forget': 1,\n",
       " 'note': 1,\n",
       " 'fitting': 1,\n",
       " 'under': 1,\n",
       " 'government': 1,\n",
       " 'work': 1,\n",
       " 'take': 1,\n",
       " 'that': 13,\n",
       " 'fathers': 1,\n",
       " 'these': 2,\n",
       " 'the': 11,\n",
       " 'in': 4,\n",
       " 'resolve': 1,\n",
       " 'great': 3,\n",
       " 'long': 2,\n",
       " 'met': 1,\n",
       " 'their': 1,\n",
       " 'battle-field': 1,\n",
       " 'remember': 1,\n",
       " 'full': 1,\n",
       " 'earth': 1,\n",
       " 'us': 3,\n",
       " 'before': 1,\n",
       " 'war': 2,\n",
       " 'who': 3,\n",
       " 'so': 3,\n",
       " 'never': 1,\n",
       " 'proposition': 1,\n",
       " 'lives': 1,\n",
       " 'brave': 1,\n",
       " 'be': 2,\n",
       " 'endure': 1,\n",
       " 'measure': 1,\n",
       " 'as': 1,\n",
       " 'on': 2,\n",
       " 'cause': 1,\n",
       " 'portion': 1,\n",
       " 'testing': 1,\n",
       " 'gave': 2,\n",
       " 'and': 6,\n",
       " 'any': 1,\n",
       " '--': 7,\n",
       " 'living': 2}"
      ]
     },
     "execution_count": 17,
     "metadata": {},
     "output_type": "execute_result"
    }
   ],
   "source": [
    "c"
   ]
  },
  {
   "cell_type": "markdown",
   "metadata": {},
   "source": [
    "## Q5: Foxes and dogs\n",
    "\n",
    "### Part 1. Short words\n",
    "\n",
    "Let's practice functions.  Here's a simple function that takes a string and returns a list of all the 4 letter words:"
   ]
  },
  {
   "cell_type": "code",
   "execution_count": 18,
   "metadata": {},
   "outputs": [],
   "source": [
    "def four_letter_words(message):\n",
    "    words = message.split()\n",
    "    four_letters = [w for w in words if len(w) == 4]\n",
    "    return four_letters"
   ]
  },
  {
   "cell_type": "code",
   "execution_count": 19,
   "metadata": {},
   "outputs": [
    {
     "name": "stdout",
     "output_type": "stream",
     "text": [
      "['over', 'lazy']\n"
     ]
    }
   ],
   "source": [
    "message = \"The quick brown fox jumps over the lazy dog\"\n",
    "print(four_letter_words(message))"
   ]
  },
  {
   "cell_type": "markdown",
   "metadata": {},
   "source": [
    "Write a version of this function that takes a second argument, n, that is the word length we want to search for"
   ]
  },
  {
   "cell_type": "code",
   "execution_count": 36,
   "metadata": {},
   "outputs": [],
   "source": [
    "def n_letter_words(message, n):\n",
    "    words = message.split()\n",
    "    n_letters = [w for w in words if len(w) == n]\n",
    "    return n_letters"
   ]
  },
  {
   "cell_type": "code",
   "execution_count": 37,
   "metadata": {},
   "outputs": [
    {
     "name": "stdout",
     "output_type": "stream",
     "text": [
      "['The', 'fox', 'the', 'dog']\n",
      "['over', 'lazy']\n",
      "['quick', 'brown', 'jumps']\n"
     ]
    }
   ],
   "source": [
    "message = \"The quick brown fox jumps over the lazy dog\"\n",
    "print(n_letter_words(message,3))\n",
    "print(n_letter_words(message,4))\n",
    "print(n_letter_words(message,5))"
   ]
  },
  {
   "cell_type": "markdown",
   "metadata": {},
   "source": [
    "### Part 2: Panagrams\n",
    "\n",
    "A _panagram_ is a sentence that includes all 26 letters of the alphabet, e.g., \"_The quick brown fox jumps over the lazy dog_.\"\n",
    "\n",
    "Write a function that takes as an argument a sentence and returns `True` or `False`, indicating whether the sentence is a panagram."
   ]
  },
  {
   "cell_type": "code",
   "execution_count": 54,
   "metadata": {},
   "outputs": [
    {
     "data": {
      "text/plain": [
       "True"
      ]
     },
     "execution_count": 54,
     "metadata": {},
     "output_type": "execute_result"
    }
   ],
   "source": [
    "def is_panagram(alphabet, message):\n",
    "    for l in alphabet:\n",
    "        if l not in message.lower():\n",
    "            return False\n",
    "    return True\n",
    "\n",
    "alphabet = list(\"abcdefghijklmnopqrstuvwxyz\")\n",
    "message = \"The quick brown fox jumps over the lazy dog\"\n",
    "\n",
    "is_panagram(alphabet, message)"
   ]
  },
  {
   "cell_type": "markdown",
   "metadata": {},
   "source": [
    "## Q6: Cath errors"
   ]
  },
  {
   "cell_type": "markdown",
   "metadata": {},
   "source": [
    "We want to safely convert a string into a float, int, or leave it as a string, depending on its contents.  As we've already seen, python provides `float()` and `int()` functions for this:"
   ]
  },
  {
   "cell_type": "code",
   "execution_count": 76,
   "metadata": {},
   "outputs": [
    {
     "name": "stdout",
     "output_type": "stream",
     "text": [
      "2.0 <class 'float'>\n"
     ]
    }
   ],
   "source": [
    "a = \"2.0\"\n",
    "b = float(a)\n",
    "print(b, type(b))"
   ]
  },
  {
   "cell_type": "markdown",
   "metadata": {},
   "source": [
    "But these throw exceptions if the conversion is not possible"
   ]
  },
  {
   "cell_type": "code",
   "execution_count": 77,
   "metadata": {
    "scrolled": true
   },
   "outputs": [
    {
     "ename": "ValueError",
     "evalue": "could not convert string to float: 'this is a string'",
     "output_type": "error",
     "traceback": [
      "\u001b[0;31m---------------------------------------------------------------------------\u001b[0m",
      "\u001b[0;31mValueError\u001b[0m                                Traceback (most recent call last)",
      "Cell \u001b[0;32mIn[77], line 2\u001b[0m\n\u001b[1;32m      1\u001b[0m a \u001b[38;5;241m=\u001b[39m \u001b[38;5;124m\"\u001b[39m\u001b[38;5;124mthis is a string\u001b[39m\u001b[38;5;124m\"\u001b[39m\n\u001b[0;32m----> 2\u001b[0m b \u001b[38;5;241m=\u001b[39m \u001b[38;5;28;43mfloat\u001b[39;49m\u001b[43m(\u001b[49m\u001b[43ma\u001b[49m\u001b[43m)\u001b[49m\n",
      "\u001b[0;31mValueError\u001b[0m: could not convert string to float: 'this is a string'"
     ]
    }
   ],
   "source": [
    "a = \"this is a string\"\n",
    "b = float(a)"
   ]
  },
  {
   "cell_type": "code",
   "execution_count": 78,
   "metadata": {},
   "outputs": [
    {
     "ename": "ValueError",
     "evalue": "invalid literal for int() with base 10: '1.2345'",
     "output_type": "error",
     "traceback": [
      "\u001b[0;31m---------------------------------------------------------------------------\u001b[0m",
      "\u001b[0;31mValueError\u001b[0m                                Traceback (most recent call last)",
      "Cell \u001b[0;32mIn[78], line 2\u001b[0m\n\u001b[1;32m      1\u001b[0m a \u001b[38;5;241m=\u001b[39m \u001b[38;5;124m\"\u001b[39m\u001b[38;5;124m1.2345\u001b[39m\u001b[38;5;124m\"\u001b[39m\n\u001b[0;32m----> 2\u001b[0m b \u001b[38;5;241m=\u001b[39m \u001b[38;5;28;43mint\u001b[39;49m\u001b[43m(\u001b[49m\u001b[43ma\u001b[49m\u001b[43m)\u001b[49m\n\u001b[1;32m      3\u001b[0m \u001b[38;5;28mprint\u001b[39m(b, \u001b[38;5;28mtype\u001b[39m(b))\n",
      "\u001b[0;31mValueError\u001b[0m: invalid literal for int() with base 10: '1.2345'"
     ]
    }
   ],
   "source": [
    "a = \"1.2345\"\n",
    "b = int(a)\n",
    "print(b, type(b))"
   ]
  },
  {
   "cell_type": "code",
   "execution_count": 79,
   "metadata": {},
   "outputs": [
    {
     "name": "stdout",
     "output_type": "stream",
     "text": [
      "1.2345 <class 'float'>\n"
     ]
    }
   ],
   "source": [
    "b = float(a)\n",
    "print(b, type(b))"
   ]
  },
  {
   "cell_type": "markdown",
   "metadata": {},
   "source": [
    "Notice that an int can be converted to a float, but if you convert a float to an int, you risk losing significant digits.  A string cannot be converted to either.\n",
    "\n",
    "### Your task\n",
    "\n",
    "Write a function, `convert_type(a)` that takes a string `a`, and converts it to a float if it is a number with a decimal point, an int if it is an integer, or leaves it as a string otherwise, and returns the result.  You'll want to use exceptions to prevent the code from aborting."
   ]
  },
  {
   "cell_type": "code",
   "execution_count": 80,
   "metadata": {},
   "outputs": [
    {
     "name": "stdout",
     "output_type": "stream",
     "text": [
      "1.1 <class 'float'>\n",
      "11 <class 'int'>\n",
      "1a1 <class 'str'>\n"
     ]
    }
   ],
   "source": [
    "a = \"1.1\"\n",
    "b = \"11\"\n",
    "c = \"1a1\"\n",
    "\n",
    "def convert_type(n):\n",
    "    try:\n",
    "        if \".\" in n:\n",
    "            return float(n)\n",
    "        else:\n",
    "            return int(n)\n",
    "    except:\n",
    "        return n\n",
    "\n",
    "n = convert_type(a)\n",
    "print(n, type(n))\n",
    "\n",
    "n = convert_type(b)\n",
    "print(n, type(n))\n",
    "\n",
    "n = convert_type(c)\n",
    "print(n, type(n))"
   ]
  },
  {
   "cell_type": "markdown",
   "metadata": {},
   "source": [
    "## Q7: Tic-tac-toe\n",
    "\n",
    "Here we'll write a simple tic-tac-toe game that 2 players can play.  First we'll create a string that represents our game board:"
   ]
  },
  {
   "cell_type": "code",
   "execution_count": 40,
   "metadata": {},
   "outputs": [],
   "source": [
    "board = \"\"\"\n",
    " {s1:^3} | {s2:^3} | {s3:^3}\n",
    "-----+-----+-----\n",
    " {s4:^3} | {s5:^3} | {s6:^3}\n",
    "-----+-----+-----      123\n",
    " {s7:^3} | {s8:^3} | {s9:^3}       456\n",
    "                       789  \n",
    "\"\"\""
   ]
  },
  {
   "cell_type": "markdown",
   "metadata": {},
   "source": [
    "This board will look a little funny if we just print it&mdash;the spacing is set to look right when we replace the `{}` with `x` or `o`"
   ]
  },
  {
   "cell_type": "code",
   "execution_count": 41,
   "metadata": {},
   "outputs": [
    {
     "name": "stdout",
     "output_type": "stream",
     "text": [
      "\n",
      " {s1:^3} | {s2:^3} | {s3:^3}\n",
      "-----+-----+-----\n",
      " {s4:^3} | {s5:^3} | {s6:^3}\n",
      "-----+-----+-----      123\n",
      " {s7:^3} | {s8:^3} | {s9:^3}       456\n",
      "                       789  \n",
      "\n"
     ]
    }
   ],
   "source": [
    "print(board)"
   ]
  },
  {
   "cell_type": "markdown",
   "metadata": {},
   "source": [
    "and well use a dictionary to denote the status of each square, \"x\", \"o\", or empty, \"\""
   ]
  },
  {
   "cell_type": "code",
   "execution_count": 42,
   "metadata": {},
   "outputs": [
    {
     "data": {
      "text/plain": [
       "{'s1': '',\n",
       " 's2': '',\n",
       " 's3': '',\n",
       " 's4': '',\n",
       " 's5': '',\n",
       " 's6': '',\n",
       " 's7': '',\n",
       " 's8': '',\n",
       " 's9': ''}"
      ]
     },
     "execution_count": 42,
     "metadata": {},
     "output_type": "execute_result"
    }
   ],
   "source": [
    "play = {}\n",
    "\n",
    "def initialize_board(play):\n",
    "    for n in range(9):\n",
    "        play[\"s{}\".format(n+1)] = \"\"\n",
    "\n",
    "initialize_board(play)\n",
    "play"
   ]
  },
  {
   "cell_type": "markdown",
   "metadata": {},
   "source": [
    "Note that our `{}` placeholders in the `board` string have identifiers (the numbers in the `{}`).  We can use these to match the variables we want to print to the placeholder in the string, regardless of the order in the `format()`"
   ]
  },
  {
   "cell_type": "code",
   "execution_count": 43,
   "metadata": {},
   "outputs": [
    {
     "data": {
      "text/plain": [
       "'2 1'"
      ]
     },
     "execution_count": 43,
     "metadata": {},
     "output_type": "execute_result"
    }
   ],
   "source": [
    "a = \"{s1:} {s2:}\".format(s2=1, s1=2)\n",
    "a"
   ]
  },
  {
   "cell_type": "markdown",
   "metadata": {},
   "source": [
    "Here's an easy way to add the values of our dictionary to the appropriate squares in our game board.  First note that each of the {} is labeled with a number that matches the keys in our dictionary.  Python provides a way to unpack a dictionary into labeled arguments, using **\n",
    "\n",
    "This lets us to write a function to show the tic-tac-toe board."
   ]
  },
  {
   "cell_type": "code",
   "execution_count": 44,
   "metadata": {},
   "outputs": [
    {
     "name": "stdout",
     "output_type": "stream",
     "text": [
      "\n",
      "     |     |    \n",
      "-----+-----+-----\n",
      "     |     |    \n",
      "-----+-----+-----      123\n",
      "     |     |           456\n",
      "                       789  \n",
      "\n"
     ]
    }
   ],
   "source": [
    "def show_board(play):\n",
    "    \"\"\" display the playing board.  We take a dictionary with the current state of the board\n",
    "    We rely on the board string to be a global variable\"\"\"\n",
    "    print(board.format(**play))\n",
    "    \n",
    "show_board(play)"
   ]
  },
  {
   "cell_type": "markdown",
   "metadata": {},
   "source": [
    "Now we need a function that asks a player for a move:"
   ]
  },
  {
   "cell_type": "code",
   "execution_count": 45,
   "metadata": {},
   "outputs": [],
   "source": [
    "def get_move(n, xo, play):\n",
    "    \"\"\" ask the current player, n, to make a move -- make sure the square was not \n",
    "        already played.  xo is a string of the character (x or o) we will place in\n",
    "        the desired square \"\"\"\n",
    "    valid_move = False\n",
    "    while not valid_move:\n",
    "        idx = input(\"player {}, enter your move (1-9)\".format(n))\n",
    "        if play[\"s{}\".format(idx)] == \"\":\n",
    "            valid_move = True\n",
    "        else:\n",
    "            print(\"invalid: {}\".format(play[\"s{}\".format(idx)]))\n",
    "            \n",
    "    play[\"s{}\".format(idx)] = xo"
   ]
  },
  {
   "cell_type": "code",
   "execution_count": 46,
   "metadata": {},
   "outputs": [
    {
     "name": "stdout",
     "output_type": "stream",
     "text": [
      "Help on function get_move in module __main__:\n",
      "\n",
      "get_move(n, xo, play)\n",
      "    ask the current player, n, to make a move -- make sure the square was not \n",
      "    already played.  xo is a string of the character (x or o) we will place in\n",
      "    the desired square\n",
      "\n"
     ]
    }
   ],
   "source": [
    "help(get_move)"
   ]
  },
  {
   "cell_type": "markdown",
   "metadata": {},
   "source": [
    "### Your task\n",
    "\n",
    "Using the functions defined above,\n",
    "  * `initialize_board()`\n",
    "  * `show_board()`\n",
    "  * `get_move()`\n",
    "\n",
    "fill in the function `play_game()` below to complete the game, asking for the moves one at a time, alternating between player 1 and 2"
   ]
  },
  {
   "cell_type": "code",
   "execution_count": 47,
   "metadata": {
    "tags": []
   },
   "outputs": [],
   "source": [
    "def check_winner(play, symbol):\n",
    "    \"\"\" check if the current player with the given symbol has won \"\"\"\n",
    "    winning_combinations = [\n",
    "        (\"s1\", \"s2\", \"s3\"),\n",
    "        (\"s4\", \"s5\", \"s6\"),\n",
    "        (\"s7\", \"s8\", \"s9\"),\n",
    "        (\"s1\", \"s4\", \"s7\"),\n",
    "        (\"s2\", \"s5\", \"s8\"),\n",
    "        (\"s3\", \"s6\", \"s9\"),\n",
    "        (\"s1\", \"s5\", \"s9\"),\n",
    "        (\"s3\", \"s5\", \"s7\"),\n",
    "    ]\n",
    "\n",
    "    for combo in winning_combinations:\n",
    "        if play[combo[0]] == play[combo[1]] == play[combo[2]] == symbol and play[combo[0]] != \"\":\n",
    "            return True\n",
    "    return False\n",
    "\n",
    "def check_draw(play):\n",
    "    \"\"\" check if the game is a draw \"\"\"\n",
    "    return all(play[key] != \"\" for key in play)\n",
    "\n",
    "def play_game():\n",
    "    \"\"\" play a game of tic-tac-toe \"\"\"\n",
    "    \n",
    "    play = {}\n",
    "    initialize_board(play)\n",
    "    show_board(play)\n",
    "\n",
    "    players = [1, 2]\n",
    "    symbols = [\"x\", \"o\"]\n",
    "    game_over = False\n",
    "\n",
    "    while not game_over:\n",
    "        for p, s in zip(players, symbols):\n",
    "            get_move(p, s, play)\n",
    "            show_board(play)\n",
    "\n",
    "            if check_winner(play, s):\n",
    "                print(f\"Player {p} wins\")\n",
    "                game_over = True\n",
    "                break\n",
    "\n",
    "            if check_draw(play):\n",
    "                print(\"It's a draw!\")\n",
    "                game_over = True\n",
    "                break\n"
   ]
  },
  {
   "cell_type": "code",
   "execution_count": 48,
   "metadata": {},
   "outputs": [
    {
     "name": "stdout",
     "output_type": "stream",
     "text": [
      "\n",
      "     |     |    \n",
      "-----+-----+-----\n",
      "     |     |    \n",
      "-----+-----+-----      123\n",
      "     |     |           456\n",
      "                       789  \n",
      "\n"
     ]
    },
    {
     "name": "stdin",
     "output_type": "stream",
     "text": [
      "player 1, enter your move (1-9) 1\n"
     ]
    },
    {
     "name": "stdout",
     "output_type": "stream",
     "text": [
      "\n",
      "  x  |     |    \n",
      "-----+-----+-----\n",
      "     |     |    \n",
      "-----+-----+-----      123\n",
      "     |     |           456\n",
      "                       789  \n",
      "\n"
     ]
    },
    {
     "name": "stdin",
     "output_type": "stream",
     "text": [
      "player 2, enter your move (1-9) 9\n"
     ]
    },
    {
     "name": "stdout",
     "output_type": "stream",
     "text": [
      "\n",
      "  x  |     |    \n",
      "-----+-----+-----\n",
      "     |     |    \n",
      "-----+-----+-----      123\n",
      "     |     |  o        456\n",
      "                       789  \n",
      "\n"
     ]
    },
    {
     "name": "stdin",
     "output_type": "stream",
     "text": [
      "player 1, enter your move (1-9) 5\n"
     ]
    },
    {
     "name": "stdout",
     "output_type": "stream",
     "text": [
      "\n",
      "  x  |     |    \n",
      "-----+-----+-----\n",
      "     |  x  |    \n",
      "-----+-----+-----      123\n",
      "     |     |  o        456\n",
      "                       789  \n",
      "\n"
     ]
    },
    {
     "name": "stdin",
     "output_type": "stream",
     "text": [
      "player 2, enter your move (1-9) 2\n"
     ]
    },
    {
     "name": "stdout",
     "output_type": "stream",
     "text": [
      "\n",
      "  x  |  o  |    \n",
      "-----+-----+-----\n",
      "     |  x  |    \n",
      "-----+-----+-----      123\n",
      "     |     |  o        456\n",
      "                       789  \n",
      "\n"
     ]
    },
    {
     "name": "stdin",
     "output_type": "stream",
     "text": [
      "player 1, enter your move (1-9) 4\n"
     ]
    },
    {
     "name": "stdout",
     "output_type": "stream",
     "text": [
      "\n",
      "  x  |  o  |    \n",
      "-----+-----+-----\n",
      "  x  |  x  |    \n",
      "-----+-----+-----      123\n",
      "     |     |  o        456\n",
      "                       789  \n",
      "\n"
     ]
    },
    {
     "name": "stdin",
     "output_type": "stream",
     "text": [
      "player 2, enter your move (1-9) 5\n"
     ]
    },
    {
     "name": "stdout",
     "output_type": "stream",
     "text": [
      "invalid: x\n"
     ]
    },
    {
     "name": "stdin",
     "output_type": "stream",
     "text": [
      "player 2, enter your move (1-9) 6\n"
     ]
    },
    {
     "name": "stdout",
     "output_type": "stream",
     "text": [
      "\n",
      "  x  |  o  |    \n",
      "-----+-----+-----\n",
      "  x  |  x  |  o \n",
      "-----+-----+-----      123\n",
      "     |     |  o        456\n",
      "                       789  \n",
      "\n"
     ]
    },
    {
     "name": "stdin",
     "output_type": "stream",
     "text": [
      "player 1, enter your move (1-9) 7\n"
     ]
    },
    {
     "name": "stdout",
     "output_type": "stream",
     "text": [
      "\n",
      "  x  |  o  |    \n",
      "-----+-----+-----\n",
      "  x  |  x  |  o \n",
      "-----+-----+-----      123\n",
      "  x  |     |  o        456\n",
      "                       789  \n",
      "\n",
      "Player 1 wins\n"
     ]
    }
   ],
   "source": [
    "play_game()"
   ]
  },
  {
   "cell_type": "markdown",
   "metadata": {},
   "source": [
    "## Q8: Shopping cart"
   ]
  },
  {
   "cell_type": "markdown",
   "metadata": {},
   "source": [
    "Let's write a simple shopping cart class -- this will hold items that you intend to purchase as well as the amount, etc.  And allow you to add / remove items, get a subtotal, etc.\n",
    "\n",
    "We'll use two classes: `Item` will be a single item and `ShoppingCart` will be the collection of items you wish to purchase.\n",
    "\n",
    "First, our store needs an inventory -- here's what we have for sale:"
   ]
  },
  {
   "cell_type": "code",
   "execution_count": 63,
   "metadata": {},
   "outputs": [],
   "source": [
    "INVENTORY_TEXT = \"\"\"\n",
    "apple, 0.60\n",
    "banana, 0.20\n",
    "grapefruit, 0.75\n",
    "grapes, 1.99\n",
    "kiwi, 0.50\n",
    "lemon, 0.20\n",
    "lime, 0.25\n",
    "mango, 1.50\n",
    "papaya, 2.95\n",
    "pineapple, 3.50\n",
    "blueberries, 1.99\n",
    "blackberries, 2.50\n",
    "peach, 0.50\n",
    "plum, 0.33\n",
    "clementine, 0.25\n",
    "cantaloupe, 3.25\n",
    "pear, 1.25\n",
    "quince, 0.45\n",
    "orange, 0.60\n",
    "\"\"\"\n",
    "\n",
    "# this will be a global -- convention is all caps\n",
    "INVENTORY = {}\n",
    "for line in INVENTORY_TEXT.splitlines():\n",
    "    if line.strip() == \"\":\n",
    "        continue\n",
    "    item, price = line.split(\",\")\n",
    "    INVENTORY[item] = float(price)\n"
   ]
  },
  {
   "cell_type": "code",
   "execution_count": 50,
   "metadata": {},
   "outputs": [
    {
     "data": {
      "text/plain": [
       "{'apple': 0.6,\n",
       " 'banana': 0.2,\n",
       " 'grapefruit': 0.75,\n",
       " 'grapes': 1.99,\n",
       " 'kiwi': 0.5,\n",
       " 'lemon': 0.2,\n",
       " 'lime': 0.25,\n",
       " 'mango': 1.5,\n",
       " 'papaya': 2.95,\n",
       " 'pineapple': 3.5,\n",
       " 'blueberries': 1.99,\n",
       " 'blackberries': 2.5,\n",
       " 'peach': 0.5,\n",
       " 'plum': 0.33,\n",
       " 'clementine': 0.25,\n",
       " 'cantaloupe': 3.25,\n",
       " 'pear': 1.25,\n",
       " 'quince': 0.45,\n",
       " 'orange': 0.6}"
      ]
     },
     "execution_count": 50,
     "metadata": {},
     "output_type": "execute_result"
    }
   ],
   "source": [
    "INVENTORY"
   ]
  },
  {
   "cell_type": "markdown",
   "metadata": {},
   "source": [
    "### Item "
   ]
  },
  {
   "cell_type": "markdown",
   "metadata": {},
   "source": [
    "Let's write an item class now -- we want it to hold the name and quantity.  \n",
    "\n",
    "You should have the following features:\n",
    "\n",
    "* The name should be something in our inventory\n",
    "\n",
    "* Our shopping cart will include a list of all the items we want to buy, so we want to be able to check for duplicates.  Implement the equal test, `==`, using `__eq__`\n",
    "\n",
    "* We'll want to consolidate duplicates, so implement the `+` operator, using `__add__` so we can add items together in our shopping cart.  Note, add should raise a ValueError if you try to add two `Items` that don't have the same name.\n",
    "\n",
    "Here's a start:"
   ]
  },
  {
   "cell_type": "code",
   "execution_count": 64,
   "metadata": {},
   "outputs": [],
   "source": [
    "class Item:\n",
    "    \"\"\" an item to buy \"\"\"\n",
    "    \n",
    "    def __init__(self, name, quantity=1):\n",
    "        \"\"\"keep track of an item that is in our inventory\"\"\"\n",
    "        if name not in INVENTORY:\n",
    "            raise ValueError(\"invalid item name\")\n",
    "        self.name = name\n",
    "        self.quantity = quantity\n",
    "        \n",
    "    def __repr__(self):\n",
    "        return \"{}: {}\".format(self.name, self.quantity)\n",
    "        \n",
    "    def __eq__(self, other):\n",
    "        \"\"\"check if the items have the same name\"\"\"\n",
    "        return self.name == other.name\n",
    "    \n",
    "    def __add__(self, other):\n",
    "        \"\"\"add two items together if they are the same type\"\"\"\n",
    "        if self.name == other.name:\n",
    "            return Item(self.name, self.quantity + other.quantity)\n",
    "        else:\n",
    "            raise ValueError(\"names don't match\")"
   ]
  },
  {
   "cell_type": "markdown",
   "metadata": {},
   "source": [
    "Here are some tests your code should pass:"
   ]
  },
  {
   "cell_type": "code",
   "execution_count": 77,
   "metadata": {},
   "outputs": [
    {
     "data": {
      "text/plain": [
       "'apple'"
      ]
     },
     "execution_count": 77,
     "metadata": {},
     "output_type": "execute_result"
    }
   ],
   "source": [
    "a = Item(\"apple\", 10)\n",
    "b = Item(\"banana\", 20)"
   ]
  },
  {
   "cell_type": "code",
   "execution_count": 66,
   "metadata": {},
   "outputs": [],
   "source": [
    "c = Item(\"apple\", 20)"
   ]
  },
  {
   "cell_type": "code",
   "execution_count": 67,
   "metadata": {
    "scrolled": true
   },
   "outputs": [
    {
     "ename": "ValueError",
     "evalue": "names don't match",
     "output_type": "error",
     "traceback": [
      "\u001b[0;31m---------------------------------------------------------------------------\u001b[0m",
      "\u001b[0;31mValueError\u001b[0m                                Traceback (most recent call last)",
      "Cell \u001b[0;32mIn[67], line 2\u001b[0m\n\u001b[1;32m      1\u001b[0m \u001b[38;5;66;03m# won't work\u001b[39;00m\n\u001b[0;32m----> 2\u001b[0m \u001b[43ma\u001b[49m\u001b[43m \u001b[49m\u001b[38;5;241;43m+\u001b[39;49m\u001b[43m \u001b[49m\u001b[43mb\u001b[49m\n",
      "Cell \u001b[0;32mIn[64], line 23\u001b[0m, in \u001b[0;36mItem.__add__\u001b[0;34m(self, other)\u001b[0m\n\u001b[1;32m     21\u001b[0m     \u001b[38;5;28;01mreturn\u001b[39;00m Item(\u001b[38;5;28mself\u001b[39m\u001b[38;5;241m.\u001b[39mname, \u001b[38;5;28mself\u001b[39m\u001b[38;5;241m.\u001b[39mquantity \u001b[38;5;241m+\u001b[39m other\u001b[38;5;241m.\u001b[39mquantity)\n\u001b[1;32m     22\u001b[0m \u001b[38;5;28;01melse\u001b[39;00m:\n\u001b[0;32m---> 23\u001b[0m     \u001b[38;5;28;01mraise\u001b[39;00m \u001b[38;5;167;01mValueError\u001b[39;00m(\u001b[38;5;124m\"\u001b[39m\u001b[38;5;124mnames don\u001b[39m\u001b[38;5;124m'\u001b[39m\u001b[38;5;124mt match\u001b[39m\u001b[38;5;124m\"\u001b[39m)\n",
      "\u001b[0;31mValueError\u001b[0m: names don't match"
     ]
    }
   ],
   "source": [
    "# won't work\n",
    "a + b"
   ]
  },
  {
   "cell_type": "code",
   "execution_count": 68,
   "metadata": {},
   "outputs": [
    {
     "name": "stdout",
     "output_type": "stream",
     "text": [
      "apple: 30\n"
     ]
    }
   ],
   "source": [
    "# will work\n",
    "a += c\n",
    "print(a)"
   ]
  },
  {
   "cell_type": "code",
   "execution_count": 69,
   "metadata": {},
   "outputs": [
    {
     "ename": "ValueError",
     "evalue": "invalid item name",
     "output_type": "error",
     "traceback": [
      "\u001b[0;31m---------------------------------------------------------------------------\u001b[0m",
      "\u001b[0;31mValueError\u001b[0m                                Traceback (most recent call last)",
      "Cell \u001b[0;32mIn[69], line 1\u001b[0m\n\u001b[0;32m----> 1\u001b[0m d \u001b[38;5;241m=\u001b[39m \u001b[43mItem\u001b[49m\u001b[43m(\u001b[49m\u001b[38;5;124;43m\"\u001b[39;49m\u001b[38;5;124;43mdog\u001b[39;49m\u001b[38;5;124;43m\"\u001b[39;49m\u001b[43m)\u001b[49m\n",
      "Cell \u001b[0;32mIn[64], line 7\u001b[0m, in \u001b[0;36mItem.__init__\u001b[0;34m(self, name, quantity)\u001b[0m\n\u001b[1;32m      5\u001b[0m \u001b[38;5;250m\u001b[39m\u001b[38;5;124;03m\"\"\"keep track of an item that is in our inventory\"\"\"\u001b[39;00m\n\u001b[1;32m      6\u001b[0m \u001b[38;5;28;01mif\u001b[39;00m name \u001b[38;5;129;01mnot\u001b[39;00m \u001b[38;5;129;01min\u001b[39;00m INVENTORY:\n\u001b[0;32m----> 7\u001b[0m     \u001b[38;5;28;01mraise\u001b[39;00m \u001b[38;5;167;01mValueError\u001b[39;00m(\u001b[38;5;124m\"\u001b[39m\u001b[38;5;124minvalid item name\u001b[39m\u001b[38;5;124m\"\u001b[39m)\n\u001b[1;32m      8\u001b[0m \u001b[38;5;28mself\u001b[39m\u001b[38;5;241m.\u001b[39mname \u001b[38;5;241m=\u001b[39m name\n\u001b[1;32m      9\u001b[0m \u001b[38;5;28mself\u001b[39m\u001b[38;5;241m.\u001b[39mquantity \u001b[38;5;241m=\u001b[39m quantity\n",
      "\u001b[0;31mValueError\u001b[0m: invalid item name"
     ]
    }
   ],
   "source": [
    "d = Item(\"dog\")"
   ]
  },
  {
   "cell_type": "code",
   "execution_count": 70,
   "metadata": {},
   "outputs": [
    {
     "data": {
      "text/plain": [
       "False"
      ]
     },
     "execution_count": 70,
     "metadata": {},
     "output_type": "execute_result"
    }
   ],
   "source": [
    "# should be False\n",
    "a == b"
   ]
  },
  {
   "cell_type": "code",
   "execution_count": 71,
   "metadata": {},
   "outputs": [
    {
     "data": {
      "text/plain": [
       "True"
      ]
     },
     "execution_count": 71,
     "metadata": {},
     "output_type": "execute_result"
    }
   ],
   "source": [
    "# should be True -- they have the same name\n",
    "a == c"
   ]
  },
  {
   "cell_type": "markdown",
   "metadata": {},
   "source": [
    "How do they behave in a list?"
   ]
  },
  {
   "cell_type": "code",
   "execution_count": 72,
   "metadata": {},
   "outputs": [
    {
     "data": {
      "text/plain": [
       "[apple: 30, banana: 20]"
      ]
     },
     "execution_count": 72,
     "metadata": {},
     "output_type": "execute_result"
    }
   ],
   "source": [
    "items = []\n",
    "items.append(a)\n",
    "items.append(b)\n",
    "items"
   ]
  },
  {
   "cell_type": "code",
   "execution_count": 73,
   "metadata": {},
   "outputs": [
    {
     "data": {
      "text/plain": [
       "True"
      ]
     },
     "execution_count": 73,
     "metadata": {},
     "output_type": "execute_result"
    }
   ],
   "source": [
    "# should be True -- they have the same name\n",
    "c in items"
   ]
  },
  {
   "cell_type": "markdown",
   "metadata": {},
   "source": [
    "### ShoppingCart"
   ]
  },
  {
   "cell_type": "markdown",
   "metadata": {},
   "source": [
    "Now we want to create a shopping cart.  The main thing it will do is hold a list of items."
   ]
  },
  {
   "cell_type": "code",
   "execution_count": 177,
   "metadata": {},
   "outputs": [],
   "source": [
    "class ShoppingCart:\n",
    "    \n",
    "    def __init__(self):\n",
    "        # the list of items we control\n",
    "        self.items = []\n",
    "        \n",
    "    def subtotal(self):\n",
    "        \"\"\" return a subtotal of our items \"\"\"\n",
    "        \n",
    "        tot = 0\n",
    "        \n",
    "        for item in self.items:\n",
    "            tot += INVENTORY[item.name] * item.quantity\n",
    "            \n",
    "        return tot\n",
    "\n",
    "    def add(self, name, quantity):\n",
    "        \"\"\" add an item to our cart -- the an item of the same name already\n",
    "        exists, then increment the quantity.  Otherwise, add a new item\n",
    "        to the cart with the desired quantity.\"\"\"\n",
    "        \n",
    "        new = Item(name, quantity)\n",
    "        \n",
    "        if new not in self.items:\n",
    "            self.items.append(new)\n",
    "        else:\n",
    "            for item in self.items:\n",
    "                if item.name == new.name:\n",
    "                    item.quantity += new.quantity\n",
    "                    \n",
    "        return\n",
    "        \n",
    "    def remove(self, name):\n",
    "        \"\"\" remove all of item name from the cart \"\"\"\n",
    "        \n",
    "        self.items = [item for item in items if item.name != name]\n",
    "        \n",
    "    def report(self):\n",
    "        \"\"\" print a summary of the cart \"\"\"\n",
    "        \n",
    "        for item in self.items:\n",
    "            print(f\"{item.name} : {item.quantity}\")\n",
    "\n"
   ]
  },
  {
   "cell_type": "markdown",
   "metadata": {},
   "source": [
    "Here are some tests"
   ]
  },
  {
   "cell_type": "code",
   "execution_count": 178,
   "metadata": {},
   "outputs": [],
   "source": [
    "sc = ShoppingCart()\n",
    "sc.add(\"orange\", 19)"
   ]
  },
  {
   "cell_type": "code",
   "execution_count": 179,
   "metadata": {},
   "outputs": [],
   "source": [
    "sc.add(\"apple\", 2)"
   ]
  },
  {
   "cell_type": "code",
   "execution_count": 180,
   "metadata": {},
   "outputs": [
    {
     "name": "stdout",
     "output_type": "stream",
     "text": [
      "orange : 19\n",
      "apple : 2\n"
     ]
    }
   ],
   "source": [
    "sc.report()"
   ]
  },
  {
   "cell_type": "code",
   "execution_count": 181,
   "metadata": {},
   "outputs": [],
   "source": [
    "sc.add(\"apple\", 9)"
   ]
  },
  {
   "cell_type": "code",
   "execution_count": 182,
   "metadata": {},
   "outputs": [
    {
     "name": "stdout",
     "output_type": "stream",
     "text": [
      "orange : 19\n",
      "apple : 11\n"
     ]
    }
   ],
   "source": [
    "# apple should only be listed once in the report, with a quantity of 11\n",
    "sc.report()"
   ]
  },
  {
   "cell_type": "code",
   "execution_count": 183,
   "metadata": {},
   "outputs": [
    {
     "data": {
      "text/plain": [
       "18.0"
      ]
     },
     "execution_count": 183,
     "metadata": {},
     "output_type": "execute_result"
    }
   ],
   "source": [
    "sc.subtotal()"
   ]
  },
  {
   "cell_type": "code",
   "execution_count": 184,
   "metadata": {},
   "outputs": [],
   "source": [
    "sc.remove(\"apple\")"
   ]
  },
  {
   "cell_type": "code",
   "execution_count": 185,
   "metadata": {},
   "outputs": [
    {
     "name": "stdout",
     "output_type": "stream",
     "text": [
      "banana : 20\n"
     ]
    }
   ],
   "source": [
    "# apple should no longer be listed\n",
    "sc.report()"
   ]
  },
  {
   "cell_type": "markdown",
   "metadata": {},
   "source": [
    "## Q9: Poker odds"
   ]
  },
  {
   "cell_type": "markdown",
   "metadata": {},
   "source": [
    "Use the deck of cards class from the notebook we worked through class to write a _Monte Carlo_ code that plays a lot of hands of straight poker (like 100,000).  Count how many of these hands has a particular poker hand (like 3-of-a-kind).  The ratio of # of hands with 3-of-a-kind to total hands is an approximation to the odds of getting a 3-of-a-kind in poker.\n",
    "\n",
    "### Bonus: \n",
    "Just to practice modules, write that into a `.py` file to allow you to import and reuse them here."
   ]
  },
  {
   "cell_type": "code",
   "execution_count": 3,
   "metadata": {},
   "outputs": [],
   "source": [
    "import random\n",
    "\n",
    "class Card:\n",
    "    \n",
    "    def __init__(self, suit=1, rank=2):\n",
    "        if suit < 1 or suit > 4:\n",
    "            print(\"invalid suit, setting to 1\")\n",
    "            suit = 1\n",
    "            \n",
    "        self.suit = suit\n",
    "        self.rank = rank\n",
    "        \n",
    "    def value(self):\n",
    "        \"\"\" we want things order primarily by rank then suit \"\"\"\n",
    "        return self.suit + (self.rank-1)*14\n",
    "    \n",
    "    # we include this to allow for comparisons with < and > between cards \n",
    "    def __lt__(self, other):\n",
    "        return self.value() < other.value()\n",
    "\n",
    "    def __eq__(self, other):\n",
    "        return self.rank == other.rank and self.suit == other.suit\n",
    "    \n",
    "    def __repr__(self):\n",
    "        return self.__str__()\n",
    "    \n",
    "    def __str__(self):\n",
    "        suits = [u\"\\u2660\",  # spade\n",
    "                 u\"\\u2665\",  # heart\n",
    "                 u\"\\u2666\",  # diamond\n",
    "                 u\"\\u2663\"]  # club\n",
    "        \n",
    "        r = str(self.rank)\n",
    "        if self.rank == 11:\n",
    "            r = \"J\"\n",
    "        elif self.rank == 12:\n",
    "            r = \"Q\"\n",
    "        elif self.rank == 13:\n",
    "            r = \"K\"\n",
    "        elif self.rank == 14:\n",
    "            r = \"A\"\n",
    "                \n",
    "        return r +':'+suits[self.suit-1]\n",
    "\n",
    "class Deck:\n",
    "    \"\"\" the deck is a collection of cards \"\"\"\n",
    "\n",
    "    def __init__(self):\n",
    "\n",
    "        self.nsuits = 4\n",
    "        self.nranks = 13\n",
    "        self.minrank = 2\n",
    "        self.maxrank = self.minrank + self.nranks - 1\n",
    "\n",
    "        self.cards = []\n",
    "\n",
    "        for rank in range(self.minrank,self.maxrank+1):\n",
    "            for suit in range(1, self.nsuits+1):\n",
    "                self.cards.append(Card(rank=rank, suit=suit))\n",
    "\n",
    "    def shuffle(self):\n",
    "        random.shuffle(self.cards)\n",
    "\n",
    "    def get_cards(self, num=1):\n",
    "        hand = []\n",
    "        for n in range(num):\n",
    "            hand.append(self.cards.pop())\n",
    "\n",
    "        return hand\n",
    "    \n",
    "    def __str__(self):\n",
    "        string = \"\"\n",
    "        for c in self.cards:\n",
    "            string += str(c) + \" \"\n",
    "        return string"
   ]
  },
  {
   "cell_type": "code",
   "execution_count": 4,
   "metadata": {},
   "outputs": [
    {
     "name": "stdout",
     "output_type": "stream",
     "text": [
      "Probability of getting 3-of-a-kind for 100.000 hands: 2.2%\n"
     ]
    }
   ],
   "source": [
    "p = 0\n",
    "\n",
    "for plays in range(int(1e5)):\n",
    "    mydeck = Deck()\n",
    "    mydeck.shuffle()\n",
    "    hand = mydeck.get_cards(5)\n",
    "        \n",
    "    for rank in range(2, 15):\n",
    "        count_of_kind = sum(1 for card in hand if card.rank == rank)\n",
    "        if count_of_kind == 3:\n",
    "            p += 1\n",
    "\n",
    "print(f\"Probability of getting 3-of-a-kind for 100.000 hands: {round(p*1e-3,2)}%\")"
   ]
  },
  {
   "cell_type": "code",
   "execution_count": 5,
   "metadata": {},
   "outputs": [
    {
     "name": "stdout",
     "output_type": "stream",
     "text": [
      "Probability of getting 3-of-a-kind for 100.000 hands: 2.3%\n"
     ]
    }
   ],
   "source": [
    "import poker\n",
    "\n",
    "poker.p_3_of_a_kind()"
   ]
  },
  {
   "cell_type": "markdown",
   "metadata": {},
   "source": [
    "## Q10: Tic-Tac-Toe again\n",
    "\n",
    "Revisit the tic-tac-toe game you developed in the functions exercises but now write it as a class with methods to do each of the main steps.  "
   ]
  },
  {
   "cell_type": "code",
   "execution_count": 23,
   "metadata": {},
   "outputs": [
    {
     "name": "stdout",
     "output_type": "stream",
     "text": [
      "\n",
      "     |     |    \n",
      "-----+-----+-----\n",
      "     |     |    \n",
      "-----+-----+-----      123\n",
      "     |     |           456\n",
      "                       789  \n",
      "\n"
     ]
    },
    {
     "name": "stdin",
     "output_type": "stream",
     "text": [
      "player 1, enter your move (1-9) 1\n"
     ]
    },
    {
     "name": "stdout",
     "output_type": "stream",
     "text": [
      "\n",
      "  x  |     |    \n",
      "-----+-----+-----\n",
      "     |     |    \n",
      "-----+-----+-----      123\n",
      "     |     |           456\n",
      "                       789  \n",
      "\n"
     ]
    },
    {
     "name": "stdin",
     "output_type": "stream",
     "text": [
      "player 2, enter your move (1-9) 2\n"
     ]
    },
    {
     "name": "stdout",
     "output_type": "stream",
     "text": [
      "\n",
      "  x  |  o  |    \n",
      "-----+-----+-----\n",
      "     |     |    \n",
      "-----+-----+-----      123\n",
      "     |     |           456\n",
      "                       789  \n",
      "\n"
     ]
    },
    {
     "name": "stdin",
     "output_type": "stream",
     "text": [
      "player 1, enter your move (1-9) 3\n"
     ]
    },
    {
     "name": "stdout",
     "output_type": "stream",
     "text": [
      "\n",
      "  x  |  o  |  x \n",
      "-----+-----+-----\n",
      "     |     |    \n",
      "-----+-----+-----      123\n",
      "     |     |           456\n",
      "                       789  \n",
      "\n"
     ]
    },
    {
     "name": "stdin",
     "output_type": "stream",
     "text": [
      "player 2, enter your move (1-9) 4\n"
     ]
    },
    {
     "name": "stdout",
     "output_type": "stream",
     "text": [
      "\n",
      "  x  |  o  |  x \n",
      "-----+-----+-----\n",
      "  o  |     |    \n",
      "-----+-----+-----      123\n",
      "     |     |           456\n",
      "                       789  \n",
      "\n"
     ]
    },
    {
     "name": "stdin",
     "output_type": "stream",
     "text": [
      "player 1, enter your move (1-9) 5\n"
     ]
    },
    {
     "name": "stdout",
     "output_type": "stream",
     "text": [
      "\n",
      "  x  |  o  |  x \n",
      "-----+-----+-----\n",
      "  o  |  x  |    \n",
      "-----+-----+-----      123\n",
      "     |     |           456\n",
      "                       789  \n",
      "\n"
     ]
    },
    {
     "name": "stdin",
     "output_type": "stream",
     "text": [
      "player 2, enter your move (1-9) 6\n"
     ]
    },
    {
     "name": "stdout",
     "output_type": "stream",
     "text": [
      "\n",
      "  x  |  o  |  x \n",
      "-----+-----+-----\n",
      "  o  |  x  |  o \n",
      "-----+-----+-----      123\n",
      "     |     |           456\n",
      "                       789  \n",
      "\n"
     ]
    },
    {
     "name": "stdin",
     "output_type": "stream",
     "text": [
      "player 1, enter your move (1-9) 7\n"
     ]
    },
    {
     "name": "stdout",
     "output_type": "stream",
     "text": [
      "\n",
      "  x  |  o  |  x \n",
      "-----+-----+-----\n",
      "  o  |  x  |  o \n",
      "-----+-----+-----      123\n",
      "  x  |     |           456\n",
      "                       789  \n",
      "\n",
      "Player 1 wins\n",
      "Play again? (y/n)\n"
     ]
    },
    {
     "name": "stdin",
     "output_type": "stream",
     "text": [
      " y\n"
     ]
    },
    {
     "name": "stdout",
     "output_type": "stream",
     "text": [
      "\n",
      "     |     |    \n",
      "-----+-----+-----\n",
      "     |     |    \n",
      "-----+-----+-----      123\n",
      "     |     |           456\n",
      "                       789  \n",
      "\n"
     ]
    },
    {
     "name": "stdin",
     "output_type": "stream",
     "text": [
      "player 1, enter your move (1-9) 1\n"
     ]
    },
    {
     "name": "stdout",
     "output_type": "stream",
     "text": [
      "\n",
      "  x  |     |    \n",
      "-----+-----+-----\n",
      "     |     |    \n",
      "-----+-----+-----      123\n",
      "     |     |           456\n",
      "                       789  \n",
      "\n"
     ]
    },
    {
     "name": "stdin",
     "output_type": "stream",
     "text": [
      "player 2, enter your move (1-9) 2\n"
     ]
    },
    {
     "name": "stdout",
     "output_type": "stream",
     "text": [
      "\n",
      "  x  |  o  |    \n",
      "-----+-----+-----\n",
      "     |     |    \n",
      "-----+-----+-----      123\n",
      "     |     |           456\n",
      "                       789  \n",
      "\n"
     ]
    },
    {
     "name": "stdin",
     "output_type": "stream",
     "text": [
      "player 1, enter your move (1-9) 3\n"
     ]
    },
    {
     "name": "stdout",
     "output_type": "stream",
     "text": [
      "\n",
      "  x  |  o  |  x \n",
      "-----+-----+-----\n",
      "     |     |    \n",
      "-----+-----+-----      123\n",
      "     |     |           456\n",
      "                       789  \n",
      "\n"
     ]
    },
    {
     "name": "stdin",
     "output_type": "stream",
     "text": [
      "player 2, enter your move (1-9) 4\n"
     ]
    },
    {
     "name": "stdout",
     "output_type": "stream",
     "text": [
      "\n",
      "  x  |  o  |  x \n",
      "-----+-----+-----\n",
      "  o  |     |    \n",
      "-----+-----+-----      123\n",
      "     |     |           456\n",
      "                       789  \n",
      "\n"
     ]
    },
    {
     "name": "stdin",
     "output_type": "stream",
     "text": [
      "player 1, enter your move (1-9) 5\n"
     ]
    },
    {
     "name": "stdout",
     "output_type": "stream",
     "text": [
      "\n",
      "  x  |  o  |  x \n",
      "-----+-----+-----\n",
      "  o  |  x  |    \n",
      "-----+-----+-----      123\n",
      "     |     |           456\n",
      "                       789  \n",
      "\n"
     ]
    },
    {
     "name": "stdin",
     "output_type": "stream",
     "text": [
      "player 2, enter your move (1-9) 6\n"
     ]
    },
    {
     "name": "stdout",
     "output_type": "stream",
     "text": [
      "\n",
      "  x  |  o  |  x \n",
      "-----+-----+-----\n",
      "  o  |  x  |  o \n",
      "-----+-----+-----      123\n",
      "     |     |           456\n",
      "                       789  \n",
      "\n"
     ]
    },
    {
     "name": "stdin",
     "output_type": "stream",
     "text": [
      "player 1, enter your move (1-9) 7\n"
     ]
    },
    {
     "name": "stdout",
     "output_type": "stream",
     "text": [
      "\n",
      "  x  |  o  |  x \n",
      "-----+-----+-----\n",
      "  o  |  x  |  o \n",
      "-----+-----+-----      123\n",
      "  x  |     |           456\n",
      "                       789  \n",
      "\n",
      "Player 1 wins\n",
      "Play again? (y/n)\n"
     ]
    },
    {
     "name": "stdin",
     "output_type": "stream",
     "text": [
      " y\n"
     ]
    },
    {
     "name": "stdout",
     "output_type": "stream",
     "text": [
      "\n",
      "     |     |    \n",
      "-----+-----+-----\n",
      "     |     |    \n",
      "-----+-----+-----      123\n",
      "     |     |           456\n",
      "                       789  \n",
      "\n"
     ]
    },
    {
     "name": "stdin",
     "output_type": "stream",
     "text": [
      "player 1, enter your move (1-9) 1\n"
     ]
    },
    {
     "name": "stdout",
     "output_type": "stream",
     "text": [
      "\n",
      "  x  |     |    \n",
      "-----+-----+-----\n",
      "     |     |    \n",
      "-----+-----+-----      123\n",
      "     |     |           456\n",
      "                       789  \n",
      "\n"
     ]
    },
    {
     "name": "stdin",
     "output_type": "stream",
     "text": [
      "player 2, enter your move (1-9) 2\n"
     ]
    },
    {
     "name": "stdout",
     "output_type": "stream",
     "text": [
      "\n",
      "  x  |  o  |    \n",
      "-----+-----+-----\n",
      "     |     |    \n",
      "-----+-----+-----      123\n",
      "     |     |           456\n",
      "                       789  \n",
      "\n"
     ]
    },
    {
     "name": "stdin",
     "output_type": "stream",
     "text": [
      "player 1, enter your move (1-9) 3\n"
     ]
    },
    {
     "name": "stdout",
     "output_type": "stream",
     "text": [
      "\n",
      "  x  |  o  |  x \n",
      "-----+-----+-----\n",
      "     |     |    \n",
      "-----+-----+-----      123\n",
      "     |     |           456\n",
      "                       789  \n",
      "\n"
     ]
    },
    {
     "name": "stdin",
     "output_type": "stream",
     "text": [
      "player 2, enter your move (1-9) 4\n"
     ]
    },
    {
     "name": "stdout",
     "output_type": "stream",
     "text": [
      "\n",
      "  x  |  o  |  x \n",
      "-----+-----+-----\n",
      "  o  |     |    \n",
      "-----+-----+-----      123\n",
      "     |     |           456\n",
      "                       789  \n",
      "\n"
     ]
    },
    {
     "name": "stdin",
     "output_type": "stream",
     "text": [
      "player 1, enter your move (1-9) 5\n"
     ]
    },
    {
     "name": "stdout",
     "output_type": "stream",
     "text": [
      "\n",
      "  x  |  o  |  x \n",
      "-----+-----+-----\n",
      "  o  |  x  |    \n",
      "-----+-----+-----      123\n",
      "     |     |           456\n",
      "                       789  \n",
      "\n"
     ]
    },
    {
     "name": "stdin",
     "output_type": "stream",
     "text": [
      "player 2, enter your move (1-9) 6\n"
     ]
    },
    {
     "name": "stdout",
     "output_type": "stream",
     "text": [
      "\n",
      "  x  |  o  |  x \n",
      "-----+-----+-----\n",
      "  o  |  x  |  o \n",
      "-----+-----+-----      123\n",
      "     |     |           456\n",
      "                       789  \n",
      "\n"
     ]
    },
    {
     "name": "stdin",
     "output_type": "stream",
     "text": [
      "player 1, enter your move (1-9) 8\n"
     ]
    },
    {
     "name": "stdout",
     "output_type": "stream",
     "text": [
      "\n",
      "  x  |  o  |  x \n",
      "-----+-----+-----\n",
      "  o  |  x  |  o \n",
      "-----+-----+-----      123\n",
      "     |  x  |           456\n",
      "                       789  \n",
      "\n"
     ]
    },
    {
     "name": "stdin",
     "output_type": "stream",
     "text": [
      "player 2, enter your move (1-9) 7\n"
     ]
    },
    {
     "name": "stdout",
     "output_type": "stream",
     "text": [
      "\n",
      "  x  |  o  |  x \n",
      "-----+-----+-----\n",
      "  o  |  x  |  o \n",
      "-----+-----+-----      123\n",
      "  o  |  x  |           456\n",
      "                       789  \n",
      "\n"
     ]
    },
    {
     "name": "stdin",
     "output_type": "stream",
     "text": [
      "player 1, enter your move (1-9) 9\n"
     ]
    },
    {
     "name": "stdout",
     "output_type": "stream",
     "text": [
      "\n",
      "  x  |  o  |  x \n",
      "-----+-----+-----\n",
      "  o  |  x  |  o \n",
      "-----+-----+-----      123\n",
      "  o  |  x  |  x        456\n",
      "                       789  \n",
      "\n",
      "Player 1 wins\n",
      "Play again? (y/n)\n"
     ]
    },
    {
     "name": "stdin",
     "output_type": "stream",
     "text": [
      " y\n"
     ]
    },
    {
     "name": "stdout",
     "output_type": "stream",
     "text": [
      "\n",
      "     |     |    \n",
      "-----+-----+-----\n",
      "     |     |    \n",
      "-----+-----+-----      123\n",
      "     |     |           456\n",
      "                       789  \n",
      "\n"
     ]
    },
    {
     "name": "stdin",
     "output_type": "stream",
     "text": [
      "player 1, enter your move (1-9) 1\n"
     ]
    },
    {
     "name": "stdout",
     "output_type": "stream",
     "text": [
      "\n",
      "  x  |     |    \n",
      "-----+-----+-----\n",
      "     |     |    \n",
      "-----+-----+-----      123\n",
      "     |     |           456\n",
      "                       789  \n",
      "\n"
     ]
    },
    {
     "name": "stdin",
     "output_type": "stream",
     "text": [
      "player 2, enter your move (1-9) 2\n"
     ]
    },
    {
     "name": "stdout",
     "output_type": "stream",
     "text": [
      "\n",
      "  x  |  o  |    \n",
      "-----+-----+-----\n",
      "     |     |    \n",
      "-----+-----+-----      123\n",
      "     |     |           456\n",
      "                       789  \n",
      "\n"
     ]
    },
    {
     "name": "stdin",
     "output_type": "stream",
     "text": [
      "player 1, enter your move (1-9) 3\n"
     ]
    },
    {
     "name": "stdout",
     "output_type": "stream",
     "text": [
      "\n",
      "  x  |  o  |  x \n",
      "-----+-----+-----\n",
      "     |     |    \n",
      "-----+-----+-----      123\n",
      "     |     |           456\n",
      "                       789  \n",
      "\n"
     ]
    },
    {
     "name": "stdin",
     "output_type": "stream",
     "text": [
      "player 2, enter your move (1-9) 4\n"
     ]
    },
    {
     "name": "stdout",
     "output_type": "stream",
     "text": [
      "\n",
      "  x  |  o  |  x \n",
      "-----+-----+-----\n",
      "  o  |     |    \n",
      "-----+-----+-----      123\n",
      "     |     |           456\n",
      "                       789  \n",
      "\n"
     ]
    },
    {
     "name": "stdin",
     "output_type": "stream",
     "text": [
      "player 1, enter your move (1-9) 5\n"
     ]
    },
    {
     "name": "stdout",
     "output_type": "stream",
     "text": [
      "\n",
      "  x  |  o  |  x \n",
      "-----+-----+-----\n",
      "  o  |  x  |    \n",
      "-----+-----+-----      123\n",
      "     |     |           456\n",
      "                       789  \n",
      "\n"
     ]
    },
    {
     "name": "stdin",
     "output_type": "stream",
     "text": [
      "player 2, enter your move (1-9) 6\n"
     ]
    },
    {
     "name": "stdout",
     "output_type": "stream",
     "text": [
      "\n",
      "  x  |  o  |  x \n",
      "-----+-----+-----\n",
      "  o  |  x  |  o \n",
      "-----+-----+-----      123\n",
      "     |     |           456\n",
      "                       789  \n",
      "\n"
     ]
    },
    {
     "name": "stdin",
     "output_type": "stream",
     "text": [
      "player 1, enter your move (1-9) 7\n"
     ]
    },
    {
     "name": "stdout",
     "output_type": "stream",
     "text": [
      "\n",
      "  x  |  o  |  x \n",
      "-----+-----+-----\n",
      "  o  |  x  |  o \n",
      "-----+-----+-----      123\n",
      "  x  |     |           456\n",
      "                       789  \n",
      "\n",
      "Player 1 wins\n",
      "Play again? (y/n)\n"
     ]
    },
    {
     "name": "stdin",
     "output_type": "stream",
     "text": [
      " n\n"
     ]
    }
   ],
   "source": [
    "class Tictactoe():\n",
    "    def __init__(self):\n",
    "        self.board = \"\"\"\n",
    " {s1:^3} | {s2:^3} | {s3:^3}\n",
    "-----+-----+-----\n",
    " {s4:^3} | {s5:^3} | {s6:^3}\n",
    "-----+-----+-----      123\n",
    " {s7:^3} | {s8:^3} | {s9:^3}       456\n",
    "                       789  \n",
    "\"\"\"\n",
    "        self.play = {}\n",
    "\n",
    "    def initialize_board(self):\n",
    "        for n in range(9):\n",
    "            self.play[\"s{}\".format(n+1)] = \"\"\n",
    "\n",
    "    def show_board(self):\n",
    "        \"\"\" display the playing board.  We take a dictionary with the current state of the board\n",
    "        We rely on the board string to be a global variable\"\"\"\n",
    "        print(self.board.format(**self.play))\n",
    "    \n",
    "\n",
    "    def get_move(self, n, xo):\n",
    "        \"\"\" ask the current player, n, to make a move -- make sure the square was not \n",
    "            already played.  xo is a string of the character (x or o) we will place in\n",
    "            the desired square \"\"\"\n",
    "        valid_move = False\n",
    "        \n",
    "        while not valid_move:\n",
    "            idx = input(\"player {}, enter your move (1-9)\".format(n))\n",
    "            if self.play[\"s{}\".format(idx)] == \"\":\n",
    "                valid_move = True\n",
    "            else:\n",
    "                print(\"invalid: {}\".format(self.play[\"s{}\".format(idx)]))\n",
    "                \n",
    "        self.play[\"s{}\".format(idx)] = xo\n",
    "\n",
    "    def check_winner(self, symbol):\n",
    "        \"\"\" check if the current player with the given symbol has won \"\"\"\n",
    "        winning_combinations = [\n",
    "            (\"s1\", \"s2\", \"s3\"),\n",
    "            (\"s4\", \"s5\", \"s6\"),\n",
    "            (\"s7\", \"s8\", \"s9\"),\n",
    "            (\"s1\", \"s4\", \"s7\"),\n",
    "            (\"s2\", \"s5\", \"s8\"),\n",
    "            (\"s3\", \"s6\", \"s9\"),\n",
    "            (\"s1\", \"s5\", \"s9\"),\n",
    "            (\"s3\", \"s5\", \"s7\"),\n",
    "        ]\n",
    "    \n",
    "        for combo in winning_combinations:\n",
    "            if self.play[combo[0]] == self.play[combo[1]] == self.play[combo[2]] == symbol and self.play[combo[0]] != \"\":\n",
    "                return True\n",
    "        return False\n",
    "\n",
    "    def check_draw(self):\n",
    "        \"\"\" check if the game is a draw \"\"\"\n",
    "        return all(self.play[key] != \"\" for key in self.play)\n",
    "\n",
    "    def play_game(self):\n",
    "        \"\"\" play a game of tic-tac-toe \"\"\"\n",
    "        self.initialize_board()\n",
    "        self.show_board()\n",
    "    \n",
    "        players = [1, 2]\n",
    "        symbols = [\"x\", \"o\"]\n",
    "        game_over = False\n",
    "    \n",
    "        while not game_over:\n",
    "            for p, s in zip(players, symbols):\n",
    "                self.get_move(p, s)\n",
    "                self.show_board()\n",
    "    \n",
    "                if self.check_winner(s):\n",
    "                    print(f\"Player {p} wins\")\n",
    "                    game_over = True\n",
    "                    break\n",
    "    \n",
    "                if self.check_draw():\n",
    "                    print(\"It's a draw!\")\n",
    "                    game_over = True\n",
    "                    break\n",
    "\n",
    "again = True\n",
    "\n",
    "while again:\n",
    "    game = Tictactoe()\n",
    "    game.play_game()\n",
    "    print(\"Play again? (y/n)\")\n",
    "    answer = input()\n",
    "    \n",
    "    if answer == \"n\":\n",
    "        again = False"
   ]
  },
  {
   "cell_type": "markdown",
   "metadata": {},
   "source": [
    "## Q11: Rock-Paper-Scissors\n",
    "\n",
    "Implement a set of games of rock-paper-scissors against the computer.  \n",
    "\n",
    "  * Ask for input from the user (\"rock\", \"paper\", or \"scissors\") and the randomly select one of these for the computer's play.\n",
    "  * Announce who won.\n",
    "  * Keep playing until a player says that they no longer want to play.\n",
    "  * When all games are done, print out how many games were won by the player and by the computer "
   ]
  },
  {
   "cell_type": "code",
   "execution_count": null,
   "metadata": {},
   "outputs": [],
   "source": []
  },
  {
   "cell_type": "markdown",
   "metadata": {},
   "source": [
    "## Q12: Pascal's triangle\n",
    "\n",
    "Pascal's triangle is created such that each layer has 1 more element than the previous, with `1`s on the side and in the interior, the numbers are the sum of the two above it, e.g.,:\n",
    "```\n",
    "            1\n",
    "          1   1\n",
    "        1   2   1\n",
    "      1   3   3   1\n",
    "    1   4   6   4   1\n",
    "  1   5   10  10  5   1\n",
    "```\n",
    "\n",
    "1. Write a function to return the first `n` rows of Pascal's triangle.  The return should be a list of length `n`, with each element itself a list containing the numbers for that row.\n",
    "2. Write a function to print out Pascal's triangle with proper formatting, so the numbers in each row are centered between the ones in the row above"
   ]
  },
  {
   "cell_type": "code",
   "execution_count": null,
   "metadata": {},
   "outputs": [],
   "source": []
  },
  {
   "cell_type": "markdown",
   "metadata": {},
   "source": [
    "## Q13: Calendar events\n",
    "\n",
    "We want to keep a schedule of events.  We will do this by creating a class called `Day`.  It is sketched out below.  A `Day` holds a list of events and has methods that allow you to add an delete events.  Our events will be instances of a class `Event`, which holds the time, location, and description of the event.\n",
    "\n",
    "Finally, we can keep track of a list of all the `Day`s for which we have events to make our schedule.\n",
    "\n",
    "Fill in these classes and write some code to demonstrate their use:\n",
    "\n",
    "  * Create a full week of days in your calendar\n",
    "  * Add an event every day at noon called \"lunch\"\n",
    "  * Randomly add some other events to fill out your calendar\n",
    "  * Write some code that tells you the start time of your first meeting and the end time of your last meeting (this is the length of your work day)"
   ]
  },
  {
   "cell_type": "code",
   "execution_count": 225,
   "metadata": {},
   "outputs": [],
   "source": [
    "class Day:\n",
    "    \"\"\"a single day keeping track of the events scheduled\"\"\"\n",
    "    def __init__(month, day, year):\n",
    "        # store the month, day, and year as data in the class\n",
    "        \n",
    "        # keep track of the events\n",
    "        self.events = []\n",
    "    \n",
    "    def add_event(name, time=None, location=None):\n",
    "        pass\n",
    "    \n",
    "    def delete_event(name):\n",
    "        pass\n",
    "    \n",
    "    \n",
    "class Event:\n",
    "    \"\"\"a single event in our calendar\"\"\"\n",
    "    def __init__(name, time=9, location=None, duration=1):\n",
    "        self.name = name\n",
    "        self.time = time\n",
    "        self.location = location\n",
    "        self.duration = duration"
   ]
  },
  {
   "cell_type": "code",
   "execution_count": null,
   "metadata": {},
   "outputs": [],
   "source": []
  }
 ],
 "metadata": {
  "kernelspec": {
   "display_name": "Python 3 (ipykernel)",
   "language": "python",
   "name": "python3"
  },
  "language_info": {
   "codemirror_mode": {
    "name": "ipython",
    "version": 3
   },
   "file_extension": ".py",
   "mimetype": "text/x-python",
   "name": "python",
   "nbconvert_exporter": "python",
   "pygments_lexer": "ipython3",
   "version": "3.11.7"
  }
 },
 "nbformat": 4,
 "nbformat_minor": 4
}
